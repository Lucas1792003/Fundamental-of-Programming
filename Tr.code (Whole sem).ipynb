{
 "cells": [
  {
   "cell_type": "code",
   "execution_count": 3,
   "metadata": {
    "scrolled": true
   },
   "outputs": [
    {
     "name": "stdout",
     "output_type": "stream",
     "text": [
      "Enter your age: 45\n",
      "You are ok to buy alcohol...\n"
     ]
    }
   ],
   "source": [
    "age = int(input('Enter your age: '))\n",
    "if age < 20:\n",
    "    print('You are not allowed to buy alcohol.')\n",
    "else:\n",
    "    print('You are ok to buy alcohol...')"
   ]
  },
  {
   "cell_type": "code",
   "execution_count": 4,
   "metadata": {},
   "outputs": [
    {
     "name": "stdout",
     "output_type": "stream",
     "text": [
      "Enter your price: 100\n",
      "Enter your discout: 20\n",
      "The total price after discout is 80.0 Baht\n"
     ]
    }
   ],
   "source": [
    "price = float(input('Enter your price: '))\n",
    "discout = float(input('Enter your discout: '))\n",
    "discountedPrice = price*discout/100\n",
    "totalPrice = price-discountedPrice\n",
    "print(f\"The total price after discout is {totalPrice} Baht\")"
   ]
  },
  {
   "cell_type": "code",
   "execution_count": 5,
   "metadata": {},
   "outputs": [
    {
     "name": "stdout",
     "output_type": "stream",
     "text": [
      "Helllooooo World!!!\n",
      "Helllooooo World!!!\n",
      "Helllooooo World!!!\n",
      "Helllooooo World!!!\n",
      "Helllooooo World!!!\n",
      "Helllooooo World!!!\n",
      "Helllooooo World!!!\n",
      "Helllooooo World!!!\n",
      "Helllooooo World!!!\n",
      "Helllooooo World!!!\n"
     ]
    }
   ],
   "source": [
    "print('Helllooooo World!!!')\n",
    "print('Helllooooo World!!!')\n",
    "print('Helllooooo World!!!')\n",
    "print('Helllooooo World!!!')\n",
    "print('Helllooooo World!!!')\n",
    "print('Helllooooo World!!!')\n",
    "print('Helllooooo World!!!')\n",
    "print('Helllooooo World!!!')\n",
    "print('Helllooooo World!!!')\n",
    "print('Helllooooo World!!!')"
   ]
  },
  {
   "cell_type": "code",
   "execution_count": 6,
   "metadata": {},
   "outputs": [
    {
     "name": "stdout",
     "output_type": "stream",
     "text": [
      "Helllooooo World!!!\n",
      "Helllooooo World!!!\n",
      "Helllooooo World!!!\n",
      "Helllooooo World!!!\n",
      "Helllooooo World!!!\n",
      "Helllooooo World!!!\n",
      "Helllooooo World!!!\n",
      "Helllooooo World!!!\n",
      "Helllooooo World!!!\n",
      "Helllooooo World!!!\n"
     ]
    }
   ],
   "source": [
    "for i in range(10):\n",
    "    print('Helllooooo World!!!')"
   ]
  },
  {
   "cell_type": "code",
   "execution_count": 9,
   "metadata": {},
   "outputs": [
    {
     "name": "stdout",
     "output_type": "stream",
     "text": [
      "Super \n",
      "Mario\n"
     ]
    }
   ],
   "source": [
    "sen = 'Super Mario'\n",
    "print(sen[0:6])\n",
    "print(sen[6:12])\n"
   ]
  },
  {
   "cell_type": "code",
   "execution_count": 11,
   "metadata": {},
   "outputs": [
    {
     "ename": "IndexError",
     "evalue": "list index out of range",
     "output_type": "error",
     "traceback": [
      "\u001b[1;31m---------------------------------------------------------------------------\u001b[0m",
      "\u001b[1;31mIndexError\u001b[0m                                Traceback (most recent call last)",
      "\u001b[1;32m<ipython-input-11-6522f786c31a>\u001b[0m in \u001b[0;36m<module>\u001b[1;34m()\u001b[0m\n\u001b[0;32m      1\u001b[0m \u001b[0mmyNum\u001b[0m \u001b[1;33m=\u001b[0m \u001b[1;33m[\u001b[0m\u001b[1;36m10\u001b[0m\u001b[1;33m,\u001b[0m\u001b[1;36m20\u001b[0m\u001b[1;33m,\u001b[0m\u001b[1;36m30\u001b[0m\u001b[1;33m,\u001b[0m\u001b[1;36m40\u001b[0m\u001b[1;33m,\u001b[0m\u001b[1;36m50\u001b[0m\u001b[1;33m,\u001b[0m\u001b[1;36m60\u001b[0m\u001b[1;33m]\u001b[0m\u001b[1;33m\u001b[0m\u001b[0m\n\u001b[1;32m----> 2\u001b[1;33m \u001b[0mprint\u001b[0m\u001b[1;33m(\u001b[0m\u001b[0mmyNum\u001b[0m\u001b[1;33m[\u001b[0m\u001b[1;36m8\u001b[0m\u001b[1;33m]\u001b[0m\u001b[1;33m)\u001b[0m\u001b[1;33m\u001b[0m\u001b[0m\n\u001b[0m",
      "\u001b[1;31mIndexError\u001b[0m: list index out of range"
     ]
    }
   ],
   "source": [
    "myNum = [10,20,30,40,50,60]\n",
    "print(myNum[8])"
   ]
  },
  {
   "cell_type": "code",
   "execution_count": 12,
   "metadata": {},
   "outputs": [
    {
     "name": "stdout",
     "output_type": "stream",
     "text": [
      "300\n"
     ]
    }
   ],
   "source": [
    "def myAdd(a,b):\n",
    "    ans = a + b\n",
    "    return ans\n",
    "\n",
    "a = 100\n",
    "b = 200\n",
    "result = myAdd(a,b)\n",
    "print(result)\n"
   ]
  },
  {
   "cell_type": "code",
   "execution_count": 15,
   "metadata": {},
   "outputs": [
    {
     "name": "stdout",
     "output_type": "stream",
     "text": [
      "The output value is Harry.\n"
     ]
    }
   ],
   "source": [
    "a = 10  #integer data type\n",
    "b = 100.5 #float\n",
    "c = 'c'\n",
    "d = 'Harry'\n",
    "e = 'I love Harry Potter'\n",
    "myInt = [1,2,3]\n",
    "myFloat = [13.2,3.4,89.8]\n",
    "myStr = ['Harry', 'Jane','Tom', \"Thor\"]\n",
    "myList = [1,19.45,'Jane',[10,20,30]]\n",
    "\n",
    "print(f'The output value is {d}.')"
   ]
  },
  {
   "cell_type": "code",
   "execution_count": 18,
   "metadata": {},
   "outputs": [
    {
     "name": "stdout",
     "output_type": "stream",
     "text": [
      "My fullname is Thor Potter. I am 19 years old.\n"
     ]
    }
   ],
   "source": [
    "name = 'Thor'\n",
    "surname = 'Potter'\n",
    "age = 19\n",
    "#print() is a Python function that displays outputs on the screen.\n",
    "#define a meaningful variable name\n",
    "\n",
    "print(f'My fullname is {name} {surname}. I am {age} years old.')"
   ]
  },
  {
   "cell_type": "code",
   "execution_count": 22,
   "metadata": {},
   "outputs": [
    {
     "name": "stdout",
     "output_type": "stream",
     "text": [
      "Please enter one number: 12\n",
      "The new number is 17.\n"
     ]
    }
   ],
   "source": [
    "#input() function is used to take a value from a user\n",
    "MyNum = int(input('Please enter one number: '))\n",
    "NewNum = MyNum + 5\n",
    "print(f'The new number is {NewNum}.')\n"
   ]
  },
  {
   "cell_type": "code",
   "execution_count": 23,
   "metadata": {},
   "outputs": [
    {
     "name": "stdout",
     "output_type": "stream",
     "text": [
      "30\n",
      "1020\n"
     ]
    }
   ],
   "source": [
    "a = 10\n",
    "b = 20\n",
    "c = a + b\n",
    "\n",
    "x = '10'\n",
    "y = '20'\n",
    "z = x + y\n",
    "\n",
    "print(c)\n",
    "print(z)"
   ]
  },
  {
   "cell_type": "code",
   "execution_count": 26,
   "metadata": {},
   "outputs": [
    {
     "name": "stdout",
     "output_type": "stream",
     "text": [
      "4000 seconds = 1 hrs, 6 mins and 40 sec.\n"
     ]
    }
   ],
   "source": [
    "number = 4000\n",
    "hours = number // 3600\n",
    "remainder = number % 3600\n",
    "minutes = remainder // 60\n",
    "seconds = remainder % 60\n",
    "print(f'{number} seconds = {hours} hrs, {minutes} mins and {seconds} sec.')"
   ]
  },
  {
   "cell_type": "code",
   "execution_count": 29,
   "metadata": {},
   "outputs": [
    {
     "name": "stdout",
     "output_type": "stream",
     "text": [
      "Enter your hourly pay: 10\n",
      "How many hours per week? :30\n",
      "You earn just 300.0 USD. You have to stay with your parents.\n"
     ]
    }
   ],
   "source": [
    "HourlyPay = float(input('Enter your hourly pay: '))\n",
    "HoursWeek = float(input('How many hours per week? :'))\n",
    "Wages = HourlyPay * HoursWeek\n",
    "if Wages > 400:\n",
    "    print(f'You earn {Wages} USD. You can afford to live alone in a big city.')\n",
    "else:\n",
    "    print(f'You earn just {Wages} USD. You have to stay with your parents.')\n",
    "    "
   ]
  },
  {
   "cell_type": "code",
   "execution_count": null,
   "metadata": {
    "collapsed": true
   },
   "outputs": [],
   "source": [
    "HourlyPay = int(input('Enter your hourly wages: '))\n",
    "WorkingHours = int(input('How many hours per week: '))\n",
    "WeeklyPay = HourlyPay * WorkingHours\n",
    "if WeeklyPay < 400:\n",
    "    print('I cannot afford to live alone.')\n",
    "elif 400 <= WeeklyPay < 1000:\n",
    "    print('I can afford to live alone in a small apartment.')\n",
    "else:\n",
    "    print('I can afford to live alone in a luxury apartment.')\n",
    "print('Bye Bye.')"
   ]
  },
  {
   "cell_type": "code",
   "execution_count": 33,
   "metadata": {},
   "outputs": [
    {
     "name": "stdout",
     "output_type": "stream",
     "text": [
      "100\n",
      "200\n",
      "Bye for now.\n"
     ]
    }
   ],
   "source": [
    "i = 1\n",
    "while i < 3:\n",
    "    print(i*100)\n",
    "    i = i + 1\n",
    "print('Bye for now.')"
   ]
  },
  {
   "cell_type": "code",
   "execution_count": 1,
   "metadata": {},
   "outputs": [
    {
     "ename": "SyntaxError",
     "evalue": "invalid syntax (3293047891.py, line 1)",
     "output_type": "error",
     "traceback": [
      "\u001b[1;36m  Input \u001b[1;32mIn [1]\u001b[1;36m\u001b[0m\n\u001b[1;33m    import = 10000\u001b[0m\n\u001b[1;37m           ^\u001b[0m\n\u001b[1;31mSyntaxError\u001b[0m\u001b[1;31m:\u001b[0m invalid syntax\n"
     ]
    }
   ],
   "source": [
    "import = 10000\n",
    "print(import)"
   ]
  },
  {
   "cell_type": "markdown",
   "metadata": {},
   "source": [
    "# Week02 - Sequential Structure\n",
    "#13 June 2022"
   ]
  },
  {
   "cell_type": "code",
   "execution_count": 4,
   "metadata": {},
   "outputs": [
    {
     "data": {
      "text/plain": [
       "str"
      ]
     },
     "execution_count": 4,
     "metadata": {},
     "output_type": "execute_result"
    }
   ],
   "source": [
    "a = '10.56'\n",
    "type(a)"
   ]
  },
  {
   "cell_type": "code",
   "execution_count": 8,
   "metadata": {},
   "outputs": [
    {
     "name": "stdout",
     "output_type": "stream",
     "text": [
      "<class 'int'>\n",
      "<class 'float'>\n",
      "11 2000.0\n"
     ]
    }
   ],
   "source": [
    "x = 5 + 2 * 3 \n",
    "y = 100 * 20 - 5 / 100 + 0.05\n",
    "print(type(x))\n",
    "print(type(y))\n",
    "print(x,y)"
   ]
  },
  {
   "cell_type": "code",
   "execution_count": 11,
   "metadata": {},
   "outputs": [
    {
     "name": "stdout",
     "output_type": "stream",
     "text": [
      "0\n",
      "3\n",
      "0\n",
      "0\n"
     ]
    }
   ],
   "source": [
    "w = 12 % 4 \n",
    "print(w) \n",
    "x = 10 % 7 \n",
    "print(x) \n",
    "y = x % (w + 1) \n",
    "print(y) \n",
    "z = z % 2 \n",
    "print(z)"
   ]
  },
  {
   "cell_type": "code",
   "execution_count": 16,
   "metadata": {},
   "outputs": [
    {
     "name": "stdout",
     "output_type": "stream",
     "text": [
      "This is a multiple line string content with triple quotes\n"
     ]
    }
   ],
   "source": [
    "message1 = 'single quotes' \n",
    "message2 = \"string with double quotes\" \n",
    "message3 = \"\"\"This is a multiple line string content with triple quotes\"\"\"\n",
    "\n",
    "print(message3)"
   ]
  },
  {
   "cell_type": "code",
   "execution_count": 17,
   "metadata": {},
   "outputs": [
    {
     "name": "stdout",
     "output_type": "stream",
     "text": [
      "My name is Ada Lovelace.\n",
      " was born in December 10, 1815. \n",
      "I’m the world’s first computer programmer.\n"
     ]
    }
   ],
   "source": [
    "print('My name is Ada Lovelace.')\n",
    "print('I was born in December 10, 1815. ')\n",
    "print('I’m the world’s first computer programmer.')"
   ]
  },
  {
   "cell_type": "code",
   "execution_count": 18,
   "metadata": {},
   "outputs": [
    {
     "name": "stdout",
     "output_type": "stream",
     "text": [
      "My name is Ada Lovelace.\n",
      "I was born in December 10, 1815.\n",
      "I’m the world’s first computer programmer.\n"
     ]
    }
   ],
   "source": [
    "sen1 = 'My name is Ada Lovelace.' \n",
    "sen2 = \"I was born in December 10, 1815.\"\n",
    "sen3 = 'I’m the world’s first computer programmer.'\n",
    "print(sen1)\n",
    "print(sen2)\n",
    "print(sen3)"
   ]
  },
  {
   "cell_type": "code",
   "execution_count": 19,
   "metadata": {},
   "outputs": [
    {
     "name": "stdout",
     "output_type": "stream",
     "text": [
      "My name is Ada Lovelace. \n",
      "I was born in December 10, 1815. \n",
      "I’m the world’s first computer programmer.\n"
     ]
    }
   ],
   "source": [
    "mySen = \"\"\"My name is Ada Lovelace. \n",
    "I was born in December 10, 1815. \n",
    "I’m the world’s first computer programmer.\"\"\"\n",
    "print(mySen)"
   ]
  },
  {
   "cell_type": "code",
   "execution_count": 23,
   "metadata": {},
   "outputs": [
    {
     "name": "stdout",
     "output_type": "stream",
     "text": [
      "I'm a good boy. My father once said \"I am a god.\"\n"
     ]
    }
   ],
   "source": [
    "sen_test = \"I'm a good boy. My father once said \\\"I am a god.\\\"\"\n",
    "print(sen_test)"
   ]
  },
  {
   "cell_type": "code",
   "execution_count": 24,
   "metadata": {},
   "outputs": [
    {
     "name": "stdout",
     "output_type": "stream",
     "text": [
      "30\n",
      "1020\n"
     ]
    }
   ],
   "source": [
    "a = 10\n",
    "b = 20\n",
    "c = a + b\n",
    "print(c)\n",
    "\n",
    "x = '10'\n",
    "y = '20'\n",
    "z = x + y\n",
    "print(z)"
   ]
  },
  {
   "cell_type": "code",
   "execution_count": 25,
   "metadata": {},
   "outputs": [
    {
     "name": "stdout",
     "output_type": "stream",
     "text": [
      "Hello Ada\n"
     ]
    }
   ],
   "source": [
    "message = \"Hello\" \n",
    "name = \"Ada\" \n",
    "result = f\"{message} {name}\"\n",
    "print(result)"
   ]
  },
  {
   "cell_type": "code",
   "execution_count": 27,
   "metadata": {},
   "outputs": [
    {
     "name": "stdout",
     "output_type": "stream",
     "text": [
      "My name is Harry Potter.\n",
      "My name is Harry Potter.\n"
     ]
    }
   ],
   "source": [
    "name = 'Harry'\n",
    "surname = 'Potter'\n",
    "result = 'My' + ' ' + 'name' + ' ' + 'is' + ' ' + name + ' ' + surname + '.'\n",
    "print(result)\n",
    "\n",
    "result1 = f'My name is {name} {surname}.'\n",
    "print(result1)\n",
    "\n"
   ]
  },
  {
   "cell_type": "code",
   "execution_count": 34,
   "metadata": {},
   "outputs": [
    {
     "name": "stdout",
     "output_type": "stream",
     "text": [
      "My name is \n",
      "Harry Potter.\n"
     ]
    }
   ],
   "source": [
    "\n",
    "print(\"My name is \\nHarry Potter.\")\n"
   ]
  },
  {
   "cell_type": "code",
   "execution_count": 35,
   "metadata": {},
   "outputs": [
    {
     "name": "stdout",
     "output_type": "stream",
     "text": [
      "Enter your name: Harry\n",
      "Enter your ID: 105\n",
      "My name is Harry and my ID is 105.\n"
     ]
    }
   ],
   "source": [
    "myName = input('Enter your name: ')\n",
    "myID = int(input('Enter your ID: '))\n",
    "sen = f'My name is {myName} and my ID is {myID}.'\n",
    "print(sen)"
   ]
  },
  {
   "cell_type": "code",
   "execution_count": 37,
   "metadata": {},
   "outputs": [
    {
     "name": "stdout",
     "output_type": "stream",
     "text": [
      "Enter your name: Ada\n",
      "Enter your last name: Lovelace\n",
      "Welcome Ada Lovelace!!!!\n",
      "Welcome Ada Lovelace!!!!\n"
     ]
    }
   ],
   "source": [
    "#Exercise 10\n",
    "firstName = input('Enter your name: ')\n",
    "lastName = input('Enter your last name: ')\n",
    "output = 'Welcome' + ' ' + firstName + ' ' + lastName + '!!!!'\n",
    "print(f'{output}')\n",
    "print(f'Welcome {firstName} {lastName}!!!!')"
   ]
  },
  {
   "cell_type": "code",
   "execution_count": 38,
   "metadata": {},
   "outputs": [
    {
     "name": "stdout",
     "output_type": "stream",
     "text": [
      "Enter your name: Ada\n",
      "Enter your last name: Lovelace\n",
      "Enter your age: 19\n",
      "Welcome Ada Lovelace!!!!. You were born in year 2003.\n"
     ]
    }
   ],
   "source": [
    "#Exercise 11\n",
    "firstName = input('Enter your name: ')\n",
    "lastName = input('Enter your last name: ')\n",
    "age = int(input('Enter your age: '))\n",
    "YearofBirth = 2022 - age \n",
    "output = 'Welcome' + ' ' + firstName + ' ' + lastName + '!!!!'\n",
    "print(f'{output}. You were born in year {YearofBirth}.')\n",
    "#print(f'Welcome {firstName} {lastName}!!!!')"
   ]
  },
  {
   "cell_type": "code",
   "execution_count": 42,
   "metadata": {},
   "outputs": [
    {
     "name": "stdout",
     "output_type": "stream",
     "text": [
      "True\n"
     ]
    }
   ],
   "source": [
    "A = True; B = False;\n",
    "C = True\n",
    "D = True\n",
    "print(A and ((B and not D) or (B or C)))"
   ]
  },
  {
   "cell_type": "code",
   "execution_count": 49,
   "metadata": {},
   "outputs": [
    {
     "name": "stdout",
     "output_type": "stream",
     "text": [
      "The output is 1000000000.123457\n"
     ]
    }
   ],
   "source": [
    "a = 0.123456789\n",
    "a += 1000000000\n",
    "print(f'The output is {a:.6f}')"
   ]
  },
  {
   "cell_type": "code",
   "execution_count": 8,
   "metadata": {},
   "outputs": [
    {
     "name": "stdout",
     "output_type": "stream",
     "text": [
      "Enter 3-digit number: 15\n",
      "Wrong Input....\n"
     ]
    }
   ],
   "source": [
    "#Solution to ASM#2 (Swap digits)\n",
    "\n",
    "num = int(input('Enter 3-digit number: '))\n",
    "\n",
    "#if len(str(num)) != 3:\n",
    "if num < 100 or num > 999:\n",
    "    print('Wrong Input....')\n",
    "else:\n",
    "    leftmost = num // 100\n",
    "    middle = (num // 10) % 10\n",
    "    rightmost =num % 10\n",
    "    #print(leftmost)\n",
    "    #print(middle)\n",
    "    #print(rightmost)\n",
    "    result = (rightmost * 100) + (middle * 10) + leftmost\n",
    "    \n",
    "    result2 = str(rightmost) + str(middle) + str(leftmost)\n",
    "    \n",
    "    print(f'The integer output is {result}.')\n",
    "    \n",
    "    print(f'The string output is {result2}.')"
   ]
  },
  {
   "cell_type": "markdown",
   "metadata": {},
   "source": [
    "# Week03 - 20 June 2022"
   ]
  },
  {
   "cell_type": "code",
   "execution_count": 12,
   "metadata": {},
   "outputs": [
    {
     "name": "stdout",
     "output_type": "stream",
     "text": [
      "Enter a value for numX: 9\n",
      "Enter a value for numY: 2\n",
      "The lowest number is 2.\n"
     ]
    }
   ],
   "source": [
    "#Ex02\n",
    "numX = int(input('Enter a value for numX: '))\n",
    "numY = int(input('Enter a value for numY: '))\n",
    "\n",
    "if numX < numY:\n",
    "    print(f'The lowest number is {numX}.')\n",
    "else:\n",
    "    print(f'The lowest number is {numY}.')"
   ]
  },
  {
   "cell_type": "code",
   "execution_count": 31,
   "metadata": {},
   "outputs": [
    {
     "name": "stdout",
     "output_type": "stream",
     "text": [
      "Enter a value for numX: 9\n",
      "Enter a value for numY: 1\n",
      "Enter a value for numZ: 5\n",
      "The middle value is 5.\n"
     ]
    }
   ],
   "source": [
    "#Ex03\n",
    "numX = int(input('Enter a value for numX: '))\n",
    "numY = int(input('Enter a value for numY: '))\n",
    "numZ = int(input('Enter a value for numZ: '))\n",
    "\n",
    "if (numX > numY > numZ) or (numX < numY < numZ):\n",
    "    print(f'The middle value is {numY}.')\n",
    "elif (numY > numX > numZ) or (numY < numX < numZ):\n",
    "    print(f'The middle value is {numX}.')\n",
    "elif (numX > numZ > numY) or (numX < numZ < numY):\n",
    "    print(f'The middle value is {numZ}.')"
   ]
  },
  {
   "cell_type": "code",
   "execution_count": 32,
   "metadata": {},
   "outputs": [
    {
     "name": "stdout",
     "output_type": "stream",
     "text": [
      "Enter your age: 36\n",
      "You are eligible to buy canabis.\n"
     ]
    }
   ],
   "source": [
    "#Ex04\n",
    "age = int(input('Enter your age: '))\n",
    "\n",
    "if age > 70:\n",
    "    print('You are too old for canabis.')\n",
    "elif age >= 20:\n",
    "    print('You are eligible to buy canabis.')\n",
    "else:\n",
    "    print('You are too young to consume canabis.')"
   ]
  },
  {
   "cell_type": "code",
   "execution_count": 34,
   "metadata": {},
   "outputs": [
    {
     "name": "stdout",
     "output_type": "stream",
     "text": [
      "Enter your age: 99\n",
      "You are too old for canabis.\n"
     ]
    }
   ],
   "source": [
    "#Ex04.1\n",
    "age = int(input('Enter your age: '))\n",
    "\n",
    "if age >= 20 and age <= 70:\n",
    "    print('You are eligible to buy canabis.')\n",
    "elif age > 70:\n",
    "    print('You are too old for canabis.')\n",
    "else:\n",
    "    print('You are too young to consume canabis.')"
   ]
  },
  {
   "cell_type": "code",
   "execution_count": 35,
   "metadata": {},
   "outputs": [
    {
     "name": "stdout",
     "output_type": "stream",
     "text": [
      "Enter a number: 65\n",
      "Awesome odd number.\n"
     ]
    }
   ],
   "source": [
    "#Ex05 Find odd or even number\n",
    "\n",
    "num = int(input('Enter a number: '))\n",
    "if num % 2 == 1:\n",
    "    print('Awesome odd number.')\n",
    "else:\n",
    "    print('Marvelous even number.')"
   ]
  },
  {
   "cell_type": "code",
   "execution_count": 38,
   "metadata": {},
   "outputs": [
    {
     "name": "stdout",
     "output_type": "stream",
     "text": [
      "Enter a 3-digit number: 699\n",
      "I amsure either 2, 4, 6, or 8 must be a left-most. \n"
     ]
    }
   ],
   "source": [
    "#Ex06\n",
    "num = int(input('Enter a 3-digit number: '))\n",
    "leftmost = num // 100\n",
    "if num < 100 or num >= 1000:\n",
    "    print('Wrong Input!!!!')\n",
    "elif leftmost % 2 == 0:\n",
    "    print('I amsure either 2, 4, 6, or 8 must be a left-most digit. ')\n",
    "elif leftmost % 2 == 1:\n",
    "    print('I know that the number you entered starts with either 1, 3, 5, 7, or 9.')"
   ]
  },
  {
   "cell_type": "code",
   "execution_count": null,
   "metadata": {},
   "outputs": [],
   "source": [
    "#Ex06.1\n",
    "num = int(input('Enter a 3-digit number: '))\n",
    "if num < 100 or num >= 1000:\n",
    "    print('Wrong Input!!!!')\n",
    "elif (num // 100) % 2 == 0:\n",
    "    print('I amsure either 2, 4, 6, or 8 must be a left-most digit. ')\n",
    "elif (num // 100) % 2 == 1:\n",
    "    print('I know that the number you entered starts with either 1, 3, 5, 7, or 9.')"
   ]
  },
  {
   "cell_type": "code",
   "execution_count": 39,
   "metadata": {},
   "outputs": [
    {
     "name": "stdout",
     "output_type": "stream",
     "text": [
      "Enter a 3-digit number: 639\n",
      "I amsure either 2, 4, 6, or 8 must be a left-most digit. \n"
     ]
    }
   ],
   "source": [
    "#Ex06.2\n",
    "num = int(input('Enter a 3-digit number: '))\n",
    "if num < 100 or num >= 1000:\n",
    "    print('Wrong Input!!!!')\n",
    "else:\n",
    "    if (num // 100) % 2 == 0:\n",
    "        print('I amsure either 2, 4, 6, or 8 must be a left-most digit. ')\n",
    "    elif (num // 100) % 2 == 1:\n",
    "        print('I know that the number you entered starts with either 1, 3, 5, 7, or 9.')"
   ]
  },
  {
   "cell_type": "code",
   "execution_count": 43,
   "metadata": {},
   "outputs": [
    {
     "name": "stdout",
     "output_type": "stream",
     "text": [
      "Enter a number: 32\n",
      "Wonderful\n"
     ]
    }
   ],
   "source": [
    "#Ex07\n",
    "num = int(input('Enter a number: '))\n",
    "if num > 100 and num % 2 == 1:\n",
    "    print('Wow')\n",
    "else:\n",
    "    print('Wonderful')\n",
    "    "
   ]
  },
  {
   "cell_type": "code",
   "execution_count": 46,
   "metadata": {},
   "outputs": [
    {
     "name": "stdout",
     "output_type": "stream",
     "text": [
      "Enter your name: Harryman\n",
      "You are as strong as Superman.\n"
     ]
    }
   ],
   "source": [
    "#Ex08 You vs. Superman\n",
    "heroName = 'Superman'\n",
    "yourName = input('Enter your name: ')\n",
    "if len(yourName) > len(heroName):\n",
    "    print('You are stronger than Superman.')\n",
    "elif len(yourName) < len(heroName):\n",
    "    print('You are weaker than an ant.')\n",
    "else:\n",
    "    print('You are as strong as Superman.')"
   ]
  },
  {
   "cell_type": "code",
   "execution_count": null,
   "metadata": {},
   "outputs": [],
   "source": [
    "#Ex09\n",
    "rad = float(input('Enter a ball\\'s radius: '))\n",
    "bas = 455.9\n",
    "vol = 4/3*(22/7)*rad*rad*rad\n",
    "if vol > bas:\n",
    "    print('The entered radius is too big.')\n",
    "else:\n",
    "    print('The entered radius is OK.')\n",
    "    "
   ]
  },
  {
   "cell_type": "code",
   "execution_count": 47,
   "metadata": {},
   "outputs": [
    {
     "name": "stdout",
     "output_type": "stream",
     "text": [
      "Enter 3-digit number: 569\n",
      "Sum of all digits is an even number.\n"
     ]
    }
   ],
   "source": [
    "#Ex10\n",
    "\n",
    "num = int(input('Enter 3-digit number: '))\n",
    "\n",
    "#if len(str(num)) != 3:\n",
    "if num < 100 or num > 999:\n",
    "    print('Wrong Input....3-digit only!!!!!!')\n",
    "else:\n",
    "    leftmost = num // 100\n",
    "    middle = (num // 10) % 10\n",
    "    rightmost =num % 10\n",
    "    result = leftmost + middle + rightmost\n",
    "    if result % 2 == 0:\n",
    "        print('Sum of all digits is an even number.')\n",
    "    else:\n",
    "        print('Sum of all digits is an odd number.')"
   ]
  },
  {
   "cell_type": "code",
   "execution_count": 49,
   "metadata": {
    "scrolled": true
   },
   "outputs": [
    {
     "name": "stdout",
     "output_type": "stream",
     "text": [
      "1\n",
      "2\n",
      "3\n",
      "4\n"
     ]
    }
   ],
   "source": [
    "#Extra Find each individual digit from 4-digit number.\n",
    "\n",
    "num = 1234\n",
    "leftMost = num // 1000\n",
    "secondtoLeft = num // 100 % 10 #num % 1000 // 100\n",
    "secondtoRight = num // 10 % 10 #num % 100 // 10\n",
    "rightMost = num % 10\n",
    "\n",
    "print(leftMost)\n",
    "print(secondtoLeft)\n",
    "print(secondtoRight)\n",
    "print(rightMost)"
   ]
  },
  {
   "cell_type": "code",
   "execution_count": 52,
   "metadata": {
    "scrolled": true
   },
   "outputs": [
    {
     "name": "stdout",
     "output_type": "stream",
     "text": [
      "Enter your height (in cm.): 75.9\n",
      "Your height is 75.9 cm. and you are too small for this ride.\n"
     ]
    }
   ],
   "source": [
    "#Ex11\n",
    "height = float(input('Enter your height (in cm.): '))\n",
    "if height < 80:\n",
    "    print(f'Your height is {height} cm. and you are too small for this ride.')\n",
    "elif height >= 80 and height <= 180:\n",
    "    print(f'You are ok for this ride.')\n",
    "else:\n",
    "    print(f'Your height is {height} cm. and you are too tall for this ride.')"
   ]
  },
  {
   "cell_type": "code",
   "execution_count": 58,
   "metadata": {},
   "outputs": [
    {
     "name": "stdout",
     "output_type": "stream",
     "text": [
      "Enter a color of your choice: Yellow\n",
      "Invalid color.....\n"
     ]
    }
   ],
   "source": [
    "alienColor = input('Enter a color of your choice: ')\n",
    "\n",
    "if alienColor == 'green':\n",
    "    print('You have eanred 5 points.')\n",
    "elif alienColor == 'yellow':\n",
    "    print('You have earned 10 points.')\n",
    "elif alienColor == 'red':\n",
    "    print('You have earned 100 points')\n",
    "else:\n",
    "    print('Invalid color.....')"
   ]
  },
  {
   "cell_type": "markdown",
   "metadata": {},
   "source": [
    "# Week 04, 27 June 2022"
   ]
  },
  {
   "cell_type": "code",
   "execution_count": 2,
   "metadata": {},
   "outputs": [
    {
     "name": "stdout",
     "output_type": "stream",
     "text": [
      "Keep printing\n",
      "Keep printing\n",
      "Keep printing\n",
      "Keep printing\n",
      "Keep printing\n"
     ]
    }
   ],
   "source": [
    "i = 0\n",
    "while i < 5:\n",
    "    print('Keep printing')\n",
    "    i += 1"
   ]
  },
  {
   "cell_type": "code",
   "execution_count": 3,
   "metadata": {},
   "outputs": [
    {
     "name": "stdout",
     "output_type": "stream",
     "text": [
      "Enter a number (-1 to exit): 1\n",
      "Keep entering....\n",
      "Enter a number (-1 to exit): 5\n",
      "Keep entering....\n",
      "Enter a number (-1 to exit): 6\n",
      "Keep entering....\n",
      "Enter a number (-1 to exit): 4\n",
      "Keep entering....\n",
      "Enter a number (-1 to exit): 58\n",
      "Keep entering....\n",
      "Enter a number (-1 to exit): 4547\n",
      "Keep entering....\n",
      "Enter a number (-1 to exit): 54\n",
      "Keep entering....\n",
      "Enter a number (-1 to exit): 454\n",
      "Keep entering....\n",
      "Enter a number (-1 to exit): 55\n",
      "Keep entering....\n",
      "Enter a number (-1 to exit): 4\n",
      "Keep entering....\n",
      "Enter a number (-1 to exit): 5\n",
      "Keep entering....\n",
      "Enter a number (-1 to exit): -1\n"
     ]
    }
   ],
   "source": [
    "num = int(input('Enter a number (-1 to exit): '))\n",
    "while num != -1:\n",
    "    print('Keep entering....')\n",
    "    num = int(input('Enter a number (-1 to exit): '))\n",
    "    \n"
   ]
  },
  {
   "cell_type": "code",
   "execution_count": 8,
   "metadata": {},
   "outputs": [
    {
     "name": "stdout",
     "output_type": "stream",
     "text": [
      "Enter a postive integer (to terminate, enter a negative integer): -7\n",
      "The sum of all positive integer(s) is 0.\n"
     ]
    }
   ],
   "source": [
    "#Ex01 - sum and a number of positive integers entered\n",
    "#Without while..else\n",
    "count = 0\n",
    "total = 0\n",
    "num = int(input('Enter a postive integer (to terminate, enter a negative integer): '))\n",
    "while num >= 0:\n",
    "    count += 1\n",
    "    total += num\n",
    "    num = int(input('Enter a postive integer (to terminate, enter a negative integer): '))\n",
    "#else:\n",
    "if count != 0:\n",
    "    print(f'The total number of positive integers entered is {count}.')\n",
    "print(f'The sum of all positive integer(s) is {total}.')\n",
    "    "
   ]
  },
  {
   "cell_type": "code",
   "execution_count": 9,
   "metadata": {},
   "outputs": [
    {
     "name": "stdout",
     "output_type": "stream",
     "text": [
      "Enter a postive integer (to terminate, enter a negative integer): 95\n",
      "Enter a postive integer (to terminate, enter a negative integer): -4\n",
      "The total number of positive integers entered is 1.\n",
      "The sum of all positive integer(s) is 95.\n"
     ]
    }
   ],
   "source": [
    "#Ex01.1 - sum and a number of positive integers entered\n",
    "#With while..else\n",
    "count = 0\n",
    "total = 0\n",
    "num = int(input('Enter a postive integer (to terminate, enter a negative integer): '))\n",
    "while num >= 0:\n",
    "    count += 1\n",
    "    total += num\n",
    "    num = int(input('Enter a postive integer (to terminate, enter a negative integer): '))\n",
    "else:\n",
    "    if count != 0:\n",
    "        print(f'The total number of positive integers entered is {count}.')\n",
    "    print(f'The sum of all positive integer(s) is {total}.')\n",
    "    \n"
   ]
  },
  {
   "cell_type": "code",
   "execution_count": 12,
   "metadata": {},
   "outputs": [
    {
     "name": "stdout",
     "output_type": "stream",
     "text": [
      "How many numbers?: 3\n",
      "Number#1: 1.8\n",
      "Number#2: 2.5\n",
      "Number#3: -2.5\n",
      "The average of these numbers is 0.6.\n",
      "The sum of all positive numbers is 4.3.\n",
      "The sum of all negative numbers is -2.5.\n"
     ]
    }
   ],
   "source": [
    "#Ex02 Takes n floating-points numbers and find avg, sum of positive\n",
    "#and sum of negative\n",
    "total = 0\n",
    "sumPositive = 0\n",
    "sumNegative = 0\n",
    "i = 1\n",
    "n = int(input('How many numbers?: '))\n",
    "while i < n + 1:\n",
    "    num = float(input(f'Number#{i}: '))\n",
    "    if num >= 0:\n",
    "        sumPositive += num\n",
    "    else:\n",
    "        sumNegative += num\n",
    "    total += num\n",
    "    i += 1\n",
    "print(f'The average of these numbers is {total / n}.')\n",
    "print(f'The sum of all positive numbers is {sumPositive}.')\n",
    "print(f'The sum of all negative numbers is {sumNegative}.')"
   ]
  },
  {
   "cell_type": "code",
   "execution_count": 13,
   "metadata": {},
   "outputs": [
    {
     "name": "stdout",
     "output_type": "stream",
     "text": [
      "How many numbers?: 3\n",
      "Number#1: 2\n",
      "Number#2: 3\n",
      "Number#3: 5\n",
      "The average of these numbers is 3.3333333333333335.\n",
      "The sum of all positive numbers is 10.0.\n",
      "The sum of all negative numbers is 0.\n"
     ]
    }
   ],
   "source": [
    "#Ex02 Takes n floating-points numbers and find avg, sum of positive\n",
    "#and sum of negative using while True\n",
    "total = 0\n",
    "sumPositive = 0\n",
    "sumNegative = 0\n",
    "i = 1\n",
    "n = int(input('How many numbers?: '))\n",
    "while True:\n",
    "    num = float(input(f'Number#{i}: '))\n",
    "    if num >= 0:\n",
    "        sumPositive += num\n",
    "    else:\n",
    "        sumNegative += num\n",
    "    total += num\n",
    "    i += 1\n",
    "    if i > n:\n",
    "        break\n",
    "print(f'The average of these numbers is {total / n}.')\n",
    "print(f'The sum of all positive numbers is {sumPositive}.')\n",
    "print(f'The sum of all negative numbers is {sumNegative}.')"
   ]
  },
  {
   "cell_type": "code",
   "execution_count": 25,
   "metadata": {},
   "outputs": [
    {
     "name": "stdout",
     "output_type": "stream",
     "text": [
      "Enter n: 5\n",
      "1 + 2 + 3 + 4 + 5 = 15\n"
     ]
    }
   ],
   "source": [
    "#Ex03 print the sum of 1 to n with a correct output formatting.\n",
    "n = int(input('Enter n: '))\n",
    "i = 1\n",
    "total = 0\n",
    "if n <= 0:\n",
    "    print('The entered value must be greater than ZERO.')\n",
    "else:\n",
    "    while i < n + 1:\n",
    "        total += i\n",
    "        if i < n:\n",
    "            print(i, end = ' + ')\n",
    "        else:\n",
    "            print(i, end = ' = ')\n",
    "            print(total)\n",
    "        i += 1"
   ]
  },
  {
   "cell_type": "code",
   "execution_count": 30,
   "metadata": {},
   "outputs": [
    {
     "name": "stdout",
     "output_type": "stream",
     "text": [
      "Enter n: 6\n",
      "6! = 1 x 2 x 3 x 4 x 5 x 6 = 720\n"
     ]
    }
   ],
   "source": [
    "#Ex04 Find n!.\n",
    "n = int(input('Enter n: '))\n",
    "i = 1\n",
    "total = 1\n",
    "if n <= 1:\n",
    "    print(f'{n}! = 1')\n",
    "else:\n",
    "    print(f'{n}! =', end = ' ')\n",
    "    while i < n + 1:\n",
    "        total *= i\n",
    "        if i < n:\n",
    "            print(i, end = ' x ')\n",
    "        else:\n",
    "            print(i, end = ' = ')\n",
    "            print(total)\n",
    "        i += 1"
   ]
  },
  {
   "cell_type": "code",
   "execution_count": 37,
   "metadata": {},
   "outputs": [
    {
     "name": "stdout",
     "output_type": "stream",
     "text": [
      "Enter the first integer: 6\n",
      "Enter the second integer: -4\n",
      "Output: 6 5 4 3 2 1 0 -1 -2 -3 -4 "
     ]
    }
   ],
   "source": [
    "#Ex05 - print from FirstInt to SecondInt or vice versa\n",
    "\n",
    "firstInt = int(input('Enter the first integer: '))\n",
    "secondInt = int(input('Enter the second integer: '))\n",
    "if firstInt < secondInt:\n",
    "    print('Output: ', end = '')\n",
    "    while firstInt <= secondInt:\n",
    "        print(firstInt, end = ' ')\n",
    "        firstInt += 1\n",
    "else:\n",
    "    print('Output: ', end = '')\n",
    "    while firstInt >= secondInt:\n",
    "        print(firstInt, end = ' ')\n",
    "        firstInt -= 1\n",
    "    "
   ]
  },
  {
   "cell_type": "code",
   "execution_count": 42,
   "metadata": {},
   "outputs": [
    {
     "name": "stdout",
     "output_type": "stream",
     "text": [
      "Enter the first integer: 9\n",
      "Enter the second integer: -2\n",
      "Output: 9 8 7 6 5 4 3 2 1 0 -1 -2\n"
     ]
    }
   ],
   "source": [
    "#Ex05 - solve by using a single while loop\n",
    "firstInt = int(input('Enter the first integer: '))\n",
    "secondInt = int(input('Enter the second integer: '))\n",
    "print('Output: ', end = '')\n",
    "while firstInt != secondInt:\n",
    "    if firstInt <= secondInt:\n",
    "        print(firstInt, end = ' ')\n",
    "        firstInt += 1\n",
    "    else:\n",
    "        print(firstInt, end = ' ')\n",
    "        firstInt -= 1\n",
    "else:\n",
    "    print(firstInt)"
   ]
  },
  {
   "cell_type": "code",
   "execution_count": 46,
   "metadata": {},
   "outputs": [
    {
     "name": "stdout",
     "output_type": "stream",
     "text": [
      "Enter numX: 10\n",
      "Enter numY: 5\n",
      "Enter numZ: 20\n",
      "There are 3 numbers between 10..20 that are divisible by 5.\n"
     ]
    }
   ],
   "source": [
    "#Ex06 - Find a total of numbers between \n",
    "#numX and numZ that can be divisible numY\n",
    "\n",
    "numX = int(input('Enter numX: '))\n",
    "numY = int(input('Enter numY: '))\n",
    "numZ = int(input('Enter numZ: '))\n",
    "i = numX\n",
    "count = 0\n",
    "while numX <= numZ:\n",
    "    if numX % numY == 0:\n",
    "        count += 1\n",
    "    numX += 1\n",
    "else:\n",
    "    print(f'There are {count} numbers between {i}..{numZ} that are divisible by {numY}.')"
   ]
  },
  {
   "cell_type": "code",
   "execution_count": 53,
   "metadata": {},
   "outputs": [
    {
     "name": "stdout",
     "output_type": "stream",
     "text": [
      "Input number: 123456789\n",
      "The sum of even digit(s) in 123456789 is 20.\n"
     ]
    }
   ],
   "source": [
    "#Ex07 - extract each digit from an input and find if they\n",
    "#are even numbers or not. Then find sum of all even digits.\n",
    "\n",
    "n = int(input('Input number: '))\n",
    "sumEven = 0\n",
    "num = n\n",
    "while n > 0:\n",
    "    if (n % 10) % 2 == 0: #Check if the rightmost digit is an even no. or not.\n",
    "        rightDigit = n % 10\n",
    "        sumEven += rightDigit\n",
    "    n = n // 10\n",
    "print(f'The sum of even digit(s) in {num} is {sumEven}.')"
   ]
  },
  {
   "cell_type": "code",
   "execution_count": 57,
   "metadata": {},
   "outputs": [
    {
     "name": "stdout",
     "output_type": "stream",
     "text": [
      "n: 7\n",
      "*******"
     ]
    }
   ],
   "source": [
    "#Ex08\n",
    "n = int(input('n: '))\n",
    "i = 0\n",
    "while i < n:\n",
    "    print('*', end = '')\n",
    "    i += 1"
   ]
  },
  {
   "cell_type": "markdown",
   "metadata": {},
   "source": [
    "# Solutions to Week 04"
   ]
  },
  {
   "cell_type": "code",
   "execution_count": 3,
   "metadata": {},
   "outputs": [
    {
     "name": "stdout",
     "output_type": "stream",
     "text": [
      "Enter n: 4\n",
      "Number#1: -5\n",
      "Number#2: -6\n",
      "Number#3: -4\n",
      "Number#4: -2\n",
      "The first highest number is -2.0\n",
      "The second highest number is -4.0\n"
     ]
    }
   ],
   "source": [
    "#Q1\n",
    "i = 1\n",
    "firstHigh = float('-inf')\n",
    "secondHigh = float('-inf')\n",
    "realNum = int(input(\"Enter n: \"))\n",
    "while i < realNum + 1:\n",
    "    num = float(input(f'Number#{i}: '))\n",
    "    i += 1\n",
    "    if num > firstHigh:\n",
    "        secondHigh = firstHigh\n",
    "        firstHigh = num\n",
    "    elif secondHigh < num:\n",
    "        secondHigh = num\n",
    "print(f'The first highest number is {firstHigh}')\n",
    "if realNum == 1:\n",
    "    print(f'There is no second highest number.')\n",
    "else:\n",
    "    print(f'The second highest number is {secondHigh}')"
   ]
  },
  {
   "cell_type": "code",
   "execution_count": 4,
   "metadata": {},
   "outputs": [
    {
     "name": "stdout",
     "output_type": "stream",
     "text": [
      "Enter the number of real number4\n",
      "Number#1: -5\n",
      "Number#2: -6\n",
      "Number#3: -2\n",
      "Number#4: -1\n",
      "The first highest number is -1.0\n",
      "The second highest number is -2.0\n"
     ]
    }
   ],
   "source": [
    "#Q1.1\n",
    "nInput = int(input('Enter the number of real number'))\n",
    "fHigh = sHigh = 0.0\n",
    "round = 0\n",
    "while round < nInput:\n",
    "    realNumber = float(input(f'Number#{round+1}: '))\n",
    "    if round == 0:\n",
    "        fHigh = sHigh = realNumber\n",
    "    else:\n",
    "        if realNumber > fHigh:\n",
    "            sHigh = fHigh\n",
    "            fHigh = realNumber\n",
    "        elif realNumber > sHigh:\n",
    "            sHigh = realNumber\n",
    "    round += 1\n",
    "print(f'The first highest number is {fHigh}')\n",
    "if nInput > 1:\n",
    "    print(f'The second highest number is {sHigh}')\n",
    "else:\n",
    "    print('There is no second highest number')"
   ]
  },
  {
   "cell_type": "code",
   "execution_count": 5,
   "metadata": {},
   "outputs": [
    {
     "name": "stdout",
     "output_type": "stream",
     "text": [
      "Input number : 65895\n",
      "The reverse number of 59856. \n"
     ]
    }
   ],
   "source": [
    "#Q2\n",
    "num= int(input('Input number : '))\n",
    "reverse = 0\n",
    "while num != 0 :\n",
    "    digit = num % 10\n",
    "    reverse = reverse*10 + digit\n",
    "    num //= 10\n",
    "\n",
    "print(f'The reverse number of {reverse}. ')"
   ]
  },
  {
   "cell_type": "code",
   "execution_count": 6,
   "metadata": {},
   "outputs": [
    {
     "name": "stdout",
     "output_type": "stream",
     "text": [
      "num, total\n",
      "14   14\n",
      "15   29\n",
      "16   45\n",
      "17   62\n",
      "18   80\n",
      "19   99\n",
      "20   119\n",
      "22   141\n",
      "23   164\n"
     ]
    }
   ],
   "source": [
    "#Q4\n",
    "numA = 14\n",
    "numB = 31\n",
    "if numA > numB:\n",
    "    start = numB\n",
    "    stop = numA\n",
    "else:\n",
    "    start = numA\n",
    "    stop = numB\n",
    "total = 0\n",
    "print('num, total')\n",
    "while start < stop and total < 5*stop:\n",
    "    if start % 3 != 0 or start%7 != 0: \n",
    "        total += start\n",
    "        print(start, ' ', total)\n",
    "    start += 1"
   ]
  },
  {
   "cell_type": "code",
   "execution_count": null,
   "metadata": {},
   "outputs": [],
   "source": [
    "#Q4.1\n",
    "numA = 25\n",
    "numB = 10\n",
    "if numA > numB:\n",
    "    numB,numA = numA,numB\n",
    "total = 0\n",
    "print('num, total')\n",
    "while numA < numB and total < 5*numB:\n",
    "    if numA % 3 != 0 or numA%7 != 0: \n",
    "        total += numA\n",
    "        print(numA, '  ' ,total)\n",
    "    numA += 1"
   ]
  },
  {
   "cell_type": "markdown",
   "metadata": {},
   "source": [
    "# Week 05, July 4, 2022 - Nested Loop"
   ]
  },
  {
   "cell_type": "code",
   "execution_count": 11,
   "metadata": {},
   "outputs": [
    {
     "name": "stdout",
     "output_type": "stream",
     "text": [
      "******\n",
      "******\n",
      "******\n",
      "******\n"
     ]
    }
   ],
   "source": [
    "countL = 0\n",
    "nLine = 7\n",
    "while countL<nLine: #Outer loop\n",
    "    countS = 0\n",
    "    nStar = 6\n",
    "    while countS<nStar : #inner loop\n",
    "        print(\"*\",end=\"\")\n",
    "        countS+= 1\n",
    "    countL += 2\n",
    "    print()"
   ]
  },
  {
   "cell_type": "code",
   "execution_count": 2,
   "metadata": {},
   "outputs": [
    {
     "name": "stdout",
     "output_type": "stream",
     "text": [
      "5\n",
      "6\n",
      "7\n",
      "8\n",
      "9\n"
     ]
    }
   ],
   "source": [
    "i = 0\n",
    "while i < 10:\n",
    "    if i < 5:\n",
    "        i += 1\n",
    "        continue\n",
    "    else:\n",
    "        print(i)\n",
    "    i += 1\n",
    "    "
   ]
  },
  {
   "cell_type": "code",
   "execution_count": 3,
   "metadata": {},
   "outputs": [
    {
     "name": "stdout",
     "output_type": "stream",
     "text": [
      "There is an example\n",
      "statement#1\n",
      "statement#2\n",
      "statement#4\n",
      "statement#5\n",
      "statement#7\n",
      "statement#8\n",
      "statement#10\n",
      "The last statement\n"
     ]
    }
   ],
   "source": [
    "countL = 0\n",
    "nLine = 10\n",
    "print(\"There is an example\")\n",
    "while countL < 10 :\n",
    "    countL += 1\n",
    "    if (countL%3) == 0:\n",
    "        continue\n",
    "    print(\"statement#\" +str(countL))\n",
    "print(\"The last statement\")"
   ]
  },
  {
   "cell_type": "code",
   "execution_count": 4,
   "metadata": {},
   "outputs": [
    {
     "name": "stdout",
     "output_type": "stream",
     "text": [
      "1\n",
      "3\n",
      "5\n",
      "7\n",
      "9\n",
      "11\n"
     ]
    }
   ],
   "source": [
    "myList= [1, 3, 5, 7, 9, 11] \n",
    "for myVar in myList:\n",
    "    print(myVar)"
   ]
  },
  {
   "cell_type": "code",
   "execution_count": 5,
   "metadata": {},
   "outputs": [
    {
     "name": "stdout",
     "output_type": "stream",
     "text": [
      "1\n",
      "3\n",
      "5\n",
      "7\n",
      "9\n",
      "11\n"
     ]
    }
   ],
   "source": [
    "myList= [1, 3, 5, 7, 9, 11] \n",
    "for i in range(len(myList)):\n",
    "    print(myList[i])"
   ]
  },
  {
   "cell_type": "code",
   "execution_count": 13,
   "metadata": {},
   "outputs": [
    {
     "name": "stdout",
     "output_type": "stream",
     "text": [
      "0 1 2 3 4 \n",
      "4 6 8 10 12 14 "
     ]
    }
   ],
   "source": [
    "i = 0\n",
    "while i < 5:\n",
    "    print(i, end = ' ')\n",
    "    i += 1\n",
    "\n",
    "print()\n",
    "for i in range(4,15,2):\n",
    "    print(i, end = ' ')"
   ]
  },
  {
   "cell_type": "code",
   "execution_count": 14,
   "metadata": {},
   "outputs": [
    {
     "name": "stdout",
     "output_type": "stream",
     "text": [
      "H\n",
      "a\n",
      "r\n",
      "r\n",
      "y\n"
     ]
    }
   ],
   "source": [
    "name = 'Harry'\n",
    "for i in name:\n",
    "    print(i)"
   ]
  },
  {
   "cell_type": "code",
   "execution_count": 15,
   "metadata": {},
   "outputs": [
    {
     "name": "stdout",
     "output_type": "stream",
     "text": [
      "H\n",
      "a\n",
      "r\n",
      "r\n",
      "y\n"
     ]
    }
   ],
   "source": [
    "name = 'Harry'\n",
    "for i in range(len(name)):\n",
    "    print(name[i])"
   ]
  },
  {
   "cell_type": "code",
   "execution_count": 17,
   "metadata": {},
   "outputs": [
    {
     "name": "stdout",
     "output_type": "stream",
     "text": [
      "[0, 1, 2, 3, 4, 5, 6, 7, 8, 9]\n"
     ]
    }
   ],
   "source": [
    "print(list(range(10)))"
   ]
  },
  {
   "cell_type": "code",
   "execution_count": 41,
   "metadata": {},
   "outputs": [
    {
     "name": "stdout",
     "output_type": "stream",
     "text": [
      "         x*1  x*2  x*3  x*4  x*5  x*6  x*7  x*8  x*9  x*10 x*11 x*12 \n",
      "x = 1  1  2  3  4  5  6  7  8  9  10  11  12  \n",
      "x = 2  2  4  6  8  10  12  14  16  18  20  22  24  \n",
      "x = 3  3  6  9  12  15  18  21  24  27  30  33  36  \n",
      "x = 4  4  8  12  16  20  24  28  32  36  40  44  48  \n",
      "x = 5  5  10  15  20  25  30  35  40  45  50  55  60  \n",
      "x = 6  6  12  18  24  30  36  42  48  54  60  66  72  \n",
      "x = 7  7  14  21  28  35  42  49  56  63  70  77  84  \n",
      "x = 8  8  16  24  32  40  48  56  64  72  80  88  96  \n",
      "x = 9  9  18  27  36  45  54  63  72  81  90  99  108  \n",
      "x = 10  10  20  30  40  50  60  70  80  90  100  110  120  \n",
      "x = 11  11  22  33  44  55  66  77  88  99  110  121  132  \n",
      "x = 12  12  24  36  48  60  72  84  96  108  120  132  144  \n"
     ]
    }
   ],
   "source": [
    "i = 1\n",
    "print('         ', end = '')\n",
    "for k in range(12):\n",
    "    print(f'x*{k+1:<3d}', end = '')\n",
    "print()\n",
    "while i < 13:\n",
    "    j = 1\n",
    "    print(f'x = {i}', end = '  ')\n",
    "    while j < 13:\n",
    "        print(i*j, end = '  ')\n",
    "        j += 1\n",
    "    i += 1\n",
    "    print()"
   ]
  },
  {
   "cell_type": "code",
   "execution_count": 43,
   "metadata": {},
   "outputs": [
    {
     "name": "stdout",
     "output_type": "stream",
     "text": [
      "x = 1  1  2  3  4  5  6  7  8  9  10  11  12  \n",
      "x = 2  2  4  6  8  10  12  14  16  18  20  22  24  \n",
      "x = 3  3  6  9  12  15  18  21  24  27  30  33  36  \n",
      "x = 4  4  8  12  16  20  24  28  32  36  40  44  48  \n",
      "x = 5  5  10  15  20  25  30  35  40  45  50  55  60  \n",
      "x = 6  6  12  18  24  30  36  42  48  54  60  66  72  \n",
      "x = 7  7  14  21  28  35  42  49  56  63  70  77  84  \n",
      "x = 8  8  16  24  32  40  48  56  64  72  80  88  96  \n",
      "x = 9  9  18  27  36  45  54  63  72  81  90  99  108  \n",
      "x = 10  10  20  30  40  50  60  70  80  90  100  110  120  \n",
      "x = 11  11  22  33  44  55  66  77  88  99  110  121  132  \n",
      "x = 12  12  24  36  48  60  72  84  96  108  120  132  144  \n"
     ]
    }
   ],
   "source": [
    "for i in range(1,13):\n",
    "    print(f'x = {i}', end = '  ')\n",
    "    for j in range(1,13):\n",
    "        print(i*j, end = '  ')\n",
    "    print()"
   ]
  },
  {
   "cell_type": "code",
   "execution_count": 44,
   "metadata": {},
   "outputs": [
    {
     "name": "stdout",
     "output_type": "stream",
     "text": [
      "0 1 2 3 4 5 6 7 8 9 10 \n",
      "0 1 2 3 4 5 6 7 8 9 10 "
     ]
    }
   ],
   "source": [
    "i = 0\n",
    "while i < 11:\n",
    "    print(i, end = ' ')\n",
    "    i += 1\n",
    "    \n",
    "    \n",
    "print()\n",
    "\n",
    "for i in range(11):\n",
    "    print(i, end = ' ')"
   ]
  },
  {
   "cell_type": "code",
   "execution_count": 49,
   "metadata": {},
   "outputs": [
    {
     "name": "stdout",
     "output_type": "stream",
     "text": [
      "10 9 8 7 6 5 4 3 2 1 0 \n",
      "0 1 2 3 4 5 6 7 8 9 10 \n",
      "20 19 18 17 16 15 14 13 12 "
     ]
    }
   ],
   "source": [
    "i = 10\n",
    "while i >= 0:\n",
    "    print(i, end = ' ')\n",
    "    i -= 1\n",
    "    \n",
    "    \n",
    "print()\n",
    "\n",
    "for i in range(11):\n",
    "    print(i, end = ' ')\n",
    "    \n",
    "print()\n",
    "\n",
    "for i in range(20,11,-1):\n",
    "    print(i, end = ' ')\n",
    "    "
   ]
  },
  {
   "cell_type": "code",
   "execution_count": 57,
   "metadata": {},
   "outputs": [
    {
     "name": "stdout",
     "output_type": "stream",
     "text": [
      "Enter a number (higher than 0): 12\n",
      "120 -11 100 -9 80 -7 60 -5 40 -3 20 -1 0 \n",
      "120 -11 100 -9 80 -7 60 -5 40 -3 20 -1 0 "
     ]
    }
   ],
   "source": [
    "#Q3\n",
    "myInt = int(input('Enter a number (higher than 0): '))\n",
    "i = myInt\n",
    "while i >= 0:\n",
    "    if i % 2 == 0:\n",
    "        print(i*10, end = ' ')\n",
    "    else:\n",
    "        print(-i, end = ' ')\n",
    "    i -= 1\n",
    "    \n",
    "print()\n",
    "\n",
    "for i in range(myInt, -1,-1):\n",
    "    if i % 2 == 0:\n",
    "        print(i*10, end = ' ')\n",
    "    else:\n",
    "        print(-i, end = ' ')\n",
    "    "
   ]
  },
  {
   "cell_type": "code",
   "execution_count": 63,
   "metadata": {},
   "outputs": [
    {
     "name": "stdout",
     "output_type": "stream",
     "text": [
      "Assume that your date of birth is 1 Jan.\n",
      "Enter  your year of birth (A.D.): 2021\n",
      "By December 2021, you are 1 years old.\n"
     ]
    }
   ],
   "source": [
    "#Q4 using while loop\n",
    "print('Assume that your date of birth is 1 Jan.')\n",
    "year = int(input('Enter  your year of birth (A.D.): '))\n",
    "startYear = 2021\n",
    "while startYear >= year:\n",
    "    print(f'By December {startYear}, you are {startYear - year + 1} years old.')\n",
    "    startYear -= 1"
   ]
  },
  {
   "cell_type": "code",
   "execution_count": 61,
   "metadata": {},
   "outputs": [
    {
     "name": "stdout",
     "output_type": "stream",
     "text": [
      "Assume that your date of birth is 1 Jan.\n",
      "Enter  your year of birth (A.D.): 2015\n",
      "By December 2021, you are 7 years old.\n",
      "By December 2020, you are 6 years old.\n",
      "By December 2019, you are 5 years old.\n",
      "By December 2018, you are 4 years old.\n",
      "By December 2017, you are 3 years old.\n",
      "By December 2016, you are 2 years old.\n",
      "By December 2015, you are 1 years old.\n"
     ]
    }
   ],
   "source": [
    "#Q4 using for loop\n",
    "\n",
    "print('Assume that your date of birth is 1 Jan.')\n",
    "year = int(input('Enter  your year of birth (A.D.): '))\n",
    "startYear = 2021\n",
    "for i in range(startYear, year - 1, -1):\n",
    "    print(f'By December {i}, you are {i - year + 1} years old.')\n",
    "    "
   ]
  },
  {
   "cell_type": "code",
   "execution_count": 68,
   "metadata": {},
   "outputs": [
    {
     "name": "stdout",
     "output_type": "stream",
     "text": [
      "Peter\n",
      "George\n"
     ]
    }
   ],
   "source": [
    "#Q5 Name list\n",
    "\n",
    "nameList = ['Peter','Tommy','George','Yuri','Sanchez','Geo']\n",
    "for name in nameList:\n",
    "    if name[1] == 'e' and len(name) >= 4:\n",
    "        \n",
    "        print(name)\n",
    "        #if len(name) >= 4:\n",
    "        #    print(name)"
   ]
  },
  {
   "cell_type": "code",
   "execution_count": 2,
   "metadata": {},
   "outputs": [
    {
     "name": "stdout",
     "output_type": "stream",
     "text": [
      "2 * 4 5 6 * 8 9 10 11 12 * 14 15 16 * 18 19 20 "
     ]
    }
   ],
   "source": [
    "#Q6\n",
    "a = 2\n",
    "b = 20\n",
    "for i in range(a,b+1):\n",
    "    if i % 10 == 3 or i % 10 == 7:\n",
    "        print('*', end = ' ')\n",
    "    else:\n",
    "        print(i, end = ' ')"
   ]
  },
  {
   "cell_type": "code",
   "execution_count": 3,
   "metadata": {
    "scrolled": true
   },
   "outputs": [
    {
     "name": "stdout",
     "output_type": "stream",
     "text": [
      "Number 1:  1 2 3 4 5 6 7 8 9 \n",
      "Number 2:  1 2 3 4 5 6 7 8 9 \n",
      "Number 3:  1 2 3 4 5 6 7 8 9 \n",
      "Number 4:  1 2 3 4 5 6 7 8 9 \n",
      "Number 5:  1 2 3 4 5 6 7 8 9 \n",
      "Number 6:  1 2 3 4 5 6 7 8 9 \n",
      "Number 7:  1 2 3 4 5 6 7 8 9 \n",
      "Number 8:  1 2 3 4 5 6 7 8 9 \n",
      "Number 9:  1 2 3 4 5 6 7 8 9 \n"
     ]
    }
   ],
   "source": [
    "#Q7\n",
    "\n",
    "for i in range(1, 10):\n",
    "    print(f'Number {i}: ', end = ' ')\n",
    "    for j in range(1, 10):\n",
    "        print(j, end = ' ')\n",
    "    print()"
   ]
  },
  {
   "cell_type": "code",
   "execution_count": 6,
   "metadata": {},
   "outputs": [
    {
     "name": "stdout",
     "output_type": "stream",
     "text": [
      "Number 1:    2   4   6   8   \n",
      "Number 2:  \n",
      "Number 3:    2   4   6   8   \n",
      "Number 4:  \n",
      "Number 5:    2   4   6   8   \n",
      "Number 6:  \n",
      "Number 7:    2   4   6   8   \n",
      "Number 8:  \n",
      "Number 9:    2   4   6   8   \n"
     ]
    }
   ],
   "source": [
    "#Q8\n",
    "for i in range(1, 10):\n",
    "    print(f'Number {i}: ', end = ' ')\n",
    "    if i % 2 == 1:\n",
    "        for j in range(1, 10):\n",
    "            if j % 2 == 1:\n",
    "                print(' ', end = ' ')\n",
    "            else:\n",
    "                print(j, end = ' ')\n",
    "   \n",
    "    print()"
   ]
  },
  {
   "cell_type": "code",
   "execution_count": 9,
   "metadata": {},
   "outputs": [
    {
     "name": "stdout",
     "output_type": "stream",
     "text": [
      "Number 1:  1       5       9 \n",
      "Number 2:  \n",
      "Number 3:  \n",
      "Number 4:  \n",
      "Number 5:  1       5       9 \n",
      "Number 6:  \n",
      "Number 7:  \n",
      "Number 8:  \n",
      "Number 9:  1       5       9 \n"
     ]
    }
   ],
   "source": [
    "#Q9\n",
    "for i in range(1, 10):\n",
    "    print(f'Number {i}: ', end = ' ')\n",
    "    if i % 4 == 1:\n",
    "        for j in range(1, 10):\n",
    "            if j % 4 == 1:\n",
    "                print(j, end = ' ')\n",
    "            else:\n",
    "                print(' ', end = ' ')\n",
    "   \n",
    "    print()"
   ]
  },
  {
   "cell_type": "markdown",
   "metadata": {},
   "source": [
    "# Week 06 String, 7 July 2022"
   ]
  },
  {
   "cell_type": "code",
   "execution_count": 11,
   "metadata": {},
   "outputs": [
    {
     "name": "stdout",
     "output_type": "stream",
     "text": [
      "66\n"
     ]
    }
   ],
   "source": [
    "char = 'B'\n",
    "print(ord(char))"
   ]
  },
  {
   "cell_type": "code",
   "execution_count": 12,
   "metadata": {},
   "outputs": [
    {
     "name": "stdout",
     "output_type": "stream",
     "text": [
      "A\n"
     ]
    }
   ],
   "source": [
    "num = 65\n",
    "print(chr(num))"
   ]
  },
  {
   "cell_type": "code",
   "execution_count": 16,
   "metadata": {},
   "outputs": [
    {
     "name": "stdout",
     "output_type": "stream",
     "text": [
      "**********\n"
     ]
    }
   ],
   "source": [
    "name = 'Peter'\n",
    "print('*'*10)"
   ]
  },
  {
   "cell_type": "code",
   "execution_count": 17,
   "metadata": {},
   "outputs": [
    {
     "name": "stdout",
     "output_type": "stream",
     "text": [
      "**********"
     ]
    }
   ],
   "source": [
    "for i in range(10):\n",
    "    print('*', end='')"
   ]
  },
  {
   "cell_type": "code",
   "execution_count": 22,
   "metadata": {},
   "outputs": [
    {
     "name": "stdout",
     "output_type": "stream",
     "text": [
      "I bought bitcoin at **,*** USD."
     ]
    }
   ],
   "source": [
    "sen = 'I bought bitcoin at 60,000 USD.'\n",
    "for s in sen:\n",
    "    if s in '0123456789':\n",
    "        print('*', end = '')\n",
    "    else:\n",
    "        print(s, end = '')"
   ]
  },
  {
   "cell_type": "code",
   "execution_count": 23,
   "metadata": {},
   "outputs": [
    {
     "name": "stdout",
     "output_type": "stream",
     "text": [
      "T\n",
      "h\n",
      "o\n",
      "r\n"
     ]
    }
   ],
   "source": [
    "name = 'Thor'\n",
    "for i in range(len(name)):\n",
    "    print(name[i])"
   ]
  },
  {
   "cell_type": "code",
   "execution_count": 73,
   "metadata": {},
   "outputs": [
    {
     "name": "stdout",
     "output_type": "stream",
     "text": [
      "rohT\n",
      "rohT\n",
      "rohT"
     ]
    }
   ],
   "source": [
    "name = 'Thor'\n",
    "for i in range(-1,-len(name)-1,-1):\n",
    "    print(name[i], end = '')\n",
    "\n",
    "print()\n",
    "\n",
    "for i in range(len(name)-1,-1,-1):\n",
    "    print(name[i], end = '')\n",
    "\n",
    "print()\n",
    "\n",
    "start = len(name) - 1\n",
    "while start >= 0:\n",
    "    print(name[start], end = '')\n",
    "    start -= 1"
   ]
  },
  {
   "cell_type": "code",
   "execution_count": 25,
   "metadata": {},
   "outputs": [
    {
     "name": "stdout",
     "output_type": "stream",
     "text": [
      "rohT\n"
     ]
    }
   ],
   "source": [
    "name = 'Thor'\n",
    "print(name[::-1])"
   ]
  },
  {
   "cell_type": "code",
   "execution_count": 27,
   "metadata": {},
   "outputs": [
    {
     "name": "stdout",
     "output_type": "stream",
     "text": [
      "Hello\n",
      "World\n",
      "llo\n",
      "Wor\n"
     ]
    }
   ],
   "source": [
    "x = \"Hello World\"\n",
    "print(x[0:5])\n",
    "print(x[6:11])\n",
    "print(x[2:5])\n",
    "print(x[6:9])"
   ]
  },
  {
   "cell_type": "code",
   "execution_count": 31,
   "metadata": {},
   "outputs": [
    {
     "name": "stdout",
     "output_type": "stream",
     "text": [
      "01234\n"
     ]
    }
   ],
   "source": [
    "sen = '0123456789'\n",
    "print(sen[0:int(len(sen)/2)])"
   ]
  },
  {
   "cell_type": "code",
   "execution_count": 33,
   "metadata": {},
   "outputs": [
    {
     "name": "stdout",
     "output_type": "stream",
     "text": [
      "*bcd*fgh*jklmn*pqrst*vwxyz"
     ]
    }
   ],
   "source": [
    "message = \"abcdefghijklmnopqrstuvwxyz\"\n",
    "for c in message:\n",
    "    if c not in \"aeiou\":\n",
    "        print(c, end = '')\n",
    "    else:\n",
    "        print(\"*\", end = '')"
   ]
  },
  {
   "cell_type": "code",
   "execution_count": 34,
   "metadata": {},
   "outputs": [
    {
     "name": "stdout",
     "output_type": "stream",
     "text": [
      "*bcd*fgh*jklmn*pqrst*vwxyz"
     ]
    }
   ],
   "source": [
    "message = \"abcdefghijklmnopqrstuvwxyz\"\n",
    "for c in message:\n",
    "    if c in \"aeiou\":\n",
    "        print('*', end = '')\n",
    "    else:\n",
    "        print(c, end = '')"
   ]
  },
  {
   "cell_type": "code",
   "execution_count": 37,
   "metadata": {},
   "outputs": [
    {
     "name": "stdout",
     "output_type": "stream",
     "text": [
      "alice\n"
     ]
    }
   ],
   "source": [
    "name = 'ALIce'\n",
    "print(name.lower())"
   ]
  },
  {
   "cell_type": "code",
   "execution_count": 39,
   "metadata": {},
   "outputs": [
    {
     "name": "stdout",
     "output_type": "stream",
     "text": [
      "True\n"
     ]
    }
   ],
   "source": [
    "name = 'ALICE'\n",
    "print(name.isupper())"
   ]
  },
  {
   "cell_type": "code",
   "execution_count": 40,
   "metadata": {},
   "outputs": [
    {
     "name": "stdout",
     "output_type": "stream",
     "text": [
      "There are 6 uppercase letters in I love MANGO\n"
     ]
    }
   ],
   "source": [
    "sen = 'I love MANGO'\n",
    "count = 0\n",
    "for s in sen:\n",
    "    if s.isupper():\n",
    "        count += 1\n",
    "print(f'There are {count} uppercase letters in {sen}')"
   ]
  },
  {
   "cell_type": "code",
   "execution_count": 41,
   "metadata": {},
   "outputs": [
    {
     "name": "stdout",
     "output_type": "stream",
     "text": [
      "2\n"
     ]
    }
   ],
   "source": [
    "print(\"Alice\".find(\"ice\"))"
   ]
  },
  {
   "cell_type": "code",
   "execution_count": 42,
   "metadata": {},
   "outputs": [
    {
     "name": "stdout",
     "output_type": "stream",
     "text": [
      "Alex\n"
     ]
    }
   ],
   "source": [
    "print(\"Alice\".replace(\"ice\", \"ex\"))"
   ]
  },
  {
   "cell_type": "code",
   "execution_count": 45,
   "metadata": {},
   "outputs": [
    {
     "name": "stdout",
     "output_type": "stream",
     "text": [
      "['Alice', 'Bob']\n"
     ]
    }
   ],
   "source": [
    "print(\"Alice,Bob\".split(\",\"))"
   ]
  },
  {
   "cell_type": "code",
   "execution_count": 47,
   "metadata": {},
   "outputs": [
    {
     "name": "stdout",
     "output_type": "stream",
     "text": [
      "Alice+Bob\n"
     ]
    }
   ],
   "source": [
    "print(\"+\".join([\"Alice\", \"Bob\"]))"
   ]
  },
  {
   "cell_type": "code",
   "execution_count": 49,
   "metadata": {},
   "outputs": [
    {
     "name": "stdout",
     "output_type": "stream",
     "text": [
      "Write a sentence: I love mango.\n",
      "I LOVE MANGO.\n"
     ]
    }
   ],
   "source": [
    "sen = input('Write a sentence: ')\n",
    "print(sen.upper())"
   ]
  },
  {
   "cell_type": "code",
   "execution_count": 50,
   "metadata": {},
   "outputs": [
    {
     "name": "stdout",
     "output_type": "stream",
     "text": [
      "Write a sentence: I love mango\n",
      "I LOVE MANGO"
     ]
    }
   ],
   "source": [
    "#Q1\n",
    "sen = input('Write a sentence: ')\n",
    "\n",
    "for c in sen:\n",
    "    print(c.upper(), end = '')"
   ]
  },
  {
   "cell_type": "code",
   "execution_count": 53,
   "metadata": {},
   "outputs": [
    {
     "name": "stdout",
     "output_type": "stream",
     "text": [
      "Enter a sentence: I love mango\n",
      "Enter a character you want to count: m\n",
      "Total number of m in this sentence is 1.\n"
     ]
    }
   ],
   "source": [
    "#Q2\n",
    "sen = input('Enter a sentence: ')\n",
    "cha = input('Enter a character you want to count: ')\n",
    "count = 0\n",
    "for c in sen:\n",
    "    if c == cha:\n",
    "        count += 1\n",
    "print(f'Total number of {cha} in this sentence is {count}.')"
   ]
  },
  {
   "cell_type": "code",
   "execution_count": 58,
   "metadata": {},
   "outputs": [
    {
     "name": "stdout",
     "output_type": "stream",
     "text": [
      "Enter a sentence: n\n",
      "Enter a character you want to count: n\n",
      "Bye Bye....\n"
     ]
    }
   ],
   "source": [
    "#Q3\n",
    "sen = input('Enter a sentence: ')\n",
    "#cha = input('Enter a character you want to count: ')\n",
    "while True:\n",
    "    cha = input('Enter a character you want to count: ')\n",
    "    if cha == 'n' or cha == 'N':\n",
    "        print('Bye Bye....')\n",
    "        break\n",
    "    count = 0\n",
    "    for c in sen:\n",
    "        if c == cha:\n",
    "            count += 1\n",
    "    print(f'Total number of {cha} in this sentence is {count}.')\n",
    "    print()\n",
    "    "
   ]
  },
  {
   "cell_type": "code",
   "execution_count": 59,
   "metadata": {},
   "outputs": [
    {
     "name": "stdout",
     "output_type": "stream",
     "text": [
      "Enter a sentence: I love mango.\n",
      "Enter a character you want to count: o\n",
      "Total number of o in this sentence is 2.\n",
      "Enter a character you want to count: i\n",
      "\n",
      "Total number of i in this sentence is 0.\n",
      "Enter a character you want to count: q\n",
      "\n",
      "Total number of q in this sentence is 0.\n",
      "Enter a character you want to count: h\n",
      "\n",
      "Total number of h in this sentence is 0.\n",
      "Enter a character you want to count: n\n",
      "\n"
     ]
    }
   ],
   "source": [
    "#Q3.1 \n",
    "sen = input('Enter a sentence: ')\n",
    "cha = input('Enter a character you want to count: ')\n",
    "while cha.lower() != 'n':\n",
    "    count = 0\n",
    "    for c in sen:\n",
    "        if c == cha:\n",
    "            count += 1\n",
    "    print(f'Total number of {cha} in this sentence is {count}.')\n",
    "    cha = input('Enter a character you want to count: ')\n",
    "    print()"
   ]
  },
  {
   "cell_type": "code",
   "execution_count": 63,
   "metadata": {},
   "outputs": [
    {
     "name": "stdout",
     "output_type": "stream",
     "text": [
      "Enter a sentence: I''''m going to bed at 10pm.\n",
      "Im going to bed at pm\n"
     ]
    }
   ],
   "source": [
    "#Q4.1 Print each character in each loop\n",
    "sen = input('Enter a sentence: ')\n",
    "outstr = ''\n",
    "for c in sen:\n",
    "    if c.isalpha() or c == ' ':\n",
    "        print(c, end = '')\n"
   ]
  },
  {
   "cell_type": "code",
   "execution_count": null,
   "metadata": {},
   "outputs": [],
   "source": [
    "#Q4.2 Concatenate a character to one string variable in each loop\n",
    "sen = input('Enter a sentence: ')\n",
    "outstr = ''\n",
    "for c in sen:\n",
    "    if c.isalpha() or c == ' ':\n",
    "        outstr += c\n",
    "print(outstr)"
   ]
  },
  {
   "cell_type": "code",
   "execution_count": 65,
   "metadata": {},
   "outputs": [
    {
     "name": "stdout",
     "output_type": "stream",
     "text": [
      "Enter a sentence: I'm 1000 years old.\n",
      "Im  years old\n"
     ]
    }
   ],
   "source": [
    "#Q5 Repeat Q4 without using .isalpha()\n",
    "#use only ord() or chr()\n",
    "\n",
    "sen = input('Enter a sentence: ')\n",
    "outStr = ''\n",
    "for c in sen:\n",
    "    if 65 <= ord(c) <= 90 or 97 <= ord(c) <= 122 or c == ' ':\n",
    "        outStr += c\n",
    "print(outStr)"
   ]
  },
  {
   "cell_type": "code",
   "execution_count": 67,
   "metadata": {},
   "outputs": [
    {
     "name": "stdout",
     "output_type": "stream",
     "text": [
      "Enter a sentence: I'am 12345 years old.\n",
      "Iam 135 years old\n"
     ]
    }
   ],
   "source": [
    "sen = input('Enter a sentence: ')\n",
    "upperLetter = 'ABCDEFGHIJKLMNOPQRSTUVWXYZ'\n",
    "lowerLetter = 'abcdefghijklmnopqrstuvwxyz'\n",
    "oddNumber = '13579'\n",
    "outStr = ''\n",
    "for c in sen:\n",
    "    if c in upperLetter or c in lowerLetter or c == ' ' or c in oddNumber:\n",
    "        outStr += c\n",
    "print(outStr)"
   ]
  },
  {
   "cell_type": "code",
   "execution_count": 78,
   "metadata": {},
   "outputs": [
    {
     "name": "stdout",
     "output_type": "stream",
     "text": [
      "Enter a sentence: 12345678\n",
      "Total alphabets = 0\n",
      "Uppercase = 0\n",
      "Lowercase = 0\n",
      "Numeric = 8\n",
      "Other letters = 0\n"
     ]
    }
   ],
   "source": [
    "#Q6 Count how many uppercase, lowercase, digits and others\n",
    "alphaCount = 0\n",
    "lowerCount = 0\n",
    "upperCount = 0\n",
    "digitCount = 0\n",
    "otherCount = 0\n",
    "sen = input('Enter a sentence: ')\n",
    "for c in sen:\n",
    "    if c.isalpha():\n",
    "        alphaCount += 1\n",
    "        if c.isupper():\n",
    "            upperCount += 1\n",
    "        elif c.islower():\n",
    "            lowerCount += 1\n",
    "    elif c.isdigit():\n",
    "        digitCount += 1\n",
    "    else:\n",
    "        otherCount += 1\n",
    "print(f'Total alphabets = {alphaCount}')\n",
    "print(f'Uppercase = {upperCount}')\n",
    "print(f'Lowercase = {lowerCount}')\n",
    "print(f'Numeric = {digitCount}')\n",
    "print(f'Other letters = {otherCount}')"
   ]
  },
  {
   "cell_type": "code",
   "execution_count": 82,
   "metadata": {},
   "outputs": [
    {
     "name": "stdout",
     "output_type": "stream",
     "text": [
      "Enter a sentence: 12345\n",
      "123\n",
      "45\n"
     ]
    }
   ],
   "source": [
    "#Q7 slice a string\n",
    "sen = input('Enter a sentence: ')\n",
    "if len(sen) % 2 == 0:\n",
    "    half = int(len(sen)/2)\n",
    "else:\n",
    "    half = int(len(sen)/2) + 1\n",
    "print(sen[0:half])\n",
    "print(sen[half:len(sen)])"
   ]
  },
  {
   "cell_type": "code",
   "execution_count": 85,
   "metadata": {},
   "outputs": [
    {
     "name": "stdout",
     "output_type": "stream",
     "text": [
      "123\n",
      "456\n"
     ]
    }
   ],
   "source": [
    "sen = '1234567890'\n",
    "mySlice = int(len(sen) / 4) + 1\n",
    "print(sen[0:mySlice])\n",
    "print(sen[mySlice:2*mySlice])"
   ]
  },
  {
   "cell_type": "code",
   "execution_count": 74,
   "metadata": {},
   "outputs": [
    {
     "name": "stdout",
     "output_type": "stream",
     "text": [
      "rohT\n",
      "rohT\n",
      "rohT"
     ]
    }
   ],
   "source": [
    "#Q8 Print string in reversed order without using string features.\n",
    "name = 'Thor'\n",
    "for i in range(-1,-len(name)-1,-1):\n",
    "    print(name[i], end = '')\n",
    "\n",
    "print()\n",
    "\n",
    "for i in range(len(name)-1,-1,-1):\n",
    "    print(name[i], end = '')\n",
    "\n",
    "print()\n",
    "\n",
    "start = len(name) - 1\n",
    "while start >= 0:\n",
    "    print(name[start], end = '')\n",
    "    start -= 1"
   ]
  },
  {
   "cell_type": "code",
   "execution_count": 92,
   "metadata": {},
   "outputs": [
    {
     "name": "stdout",
     "output_type": "stream",
     "text": [
      "You were my sunshine, you are my everything.\n"
     ]
    }
   ],
   "source": [
    "orgStr = 'You are my sunshine, you are my everything.'\n",
    "repStr = orgStr.replace('are','were',1)\n",
    "print(repStr)"
   ]
  },
  {
   "cell_type": "code",
   "execution_count": 98,
   "metadata": {},
   "outputs": [
    {
     "name": "stdout",
     "output_type": "stream",
     "text": [
      "I love banana \n"
     ]
    }
   ],
   "source": [
    "#Q9 Replace one word with another without using .replace()\n",
    "myStr = 'I love mango'\n",
    "strList = myStr.split(' ')\n",
    "outStr = ''\n",
    "for i in strList:\n",
    "    if i == 'mango':\n",
    "        outStr += 'banana' + ' '\n",
    "    else:\n",
    "        outStr += i + ' '\n",
    "print(outStr)"
   ]
  },
  {
   "cell_type": "markdown",
   "metadata": {},
   "source": [
    "# Week07_Code Tracing\n"
   ]
  },
  {
   "cell_type": "code",
   "execution_count": 4,
   "metadata": {},
   "outputs": [
    {
     "name": "stdout",
     "output_type": "stream",
     "text": [
      "Enter a word: superman\n",
      "**************\n",
      "*==superman==*\n",
      "*==superman==*\n",
      "*==superman==*\n",
      "*==superman==*\n",
      "*==superman==*\n",
      "*==superman==*\n",
      "*==superman==*\n",
      "*==superman==*\n",
      "**************\n"
     ]
    }
   ],
   "source": [
    "word = input('Enter a word: ')\n",
    "print('*'*len(word)+'******')\n",
    "for i in range(len(word)):\n",
    "    print(f'*=={word}==*')\n",
    "print('*'*len(word)+'******')"
   ]
  },
  {
   "cell_type": "code",
   "execution_count": 9,
   "metadata": {},
   "outputs": [
    {
     "name": "stdout",
     "output_type": "stream",
     "text": [
      "1 2 3 4 5 6 7 8 9 \n",
      "1 * * * * * * * 9 \n",
      "1 * * * * * * * 9 \n",
      "1 * * $ $ $ * * 9 \n",
      "1 * * $ $ $ * * 9 \n",
      "1 * * $ $ $ * * 9 \n",
      "1 * * * * * * * 9 \n",
      "1 * * * * * * * 9 \n",
      "1 2 3 4 5 6 7 8 9 \n"
     ]
    }
   ],
   "source": [
    "for i in range(1,10):\n",
    "    for j in range(1,10):\n",
    "        if i == 1 or i == 9 or j == 1 or j == 9:\n",
    "            print(j, end = ' ')\n",
    "        else:\n",
    "            if 4 <= i <= 6 and 4 <= j <= 6:\n",
    "                print('$', end = ' ')\n",
    "            else:\n",
    "                print('*', end = ' ')\n",
    "    print()"
   ]
  },
  {
   "cell_type": "code",
   "execution_count": 12,
   "metadata": {},
   "outputs": [
    {
     "name": "stdout",
     "output_type": "stream",
     "text": [
      "Enter a sentence: I am 100 years old and I want to live 50 more years.\n",
      "(            )myrsldndwnttlvmryrs[10050]***************\n"
     ]
    }
   ],
   "source": [
    "sen = input('Enter a sentence: ')\n",
    "space = ''\n",
    "outsen = ''\n",
    "digit = ''\n",
    "vowel = ''\n",
    "for c in sen:\n",
    "    if c == ' ':\n",
    "        space += c\n",
    "    elif c in 'aeiouAEIOU':\n",
    "        vowel += c\n",
    "    elif c.isalpha():\n",
    "        outsen += c\n",
    "    elif c.isdigit():\n",
    "        digit += c\n",
    "    \n",
    "print(f'({space}){outsen}[{digit}]',end='')\n",
    "print('*'*len(vowel))\n"
   ]
  },
  {
   "cell_type": "markdown",
   "metadata": {},
   "source": [
    "# Class08 Lists in Python\n",
    "# 11 August 2022"
   ]
  },
  {
   "cell_type": "code",
   "execution_count": 1,
   "metadata": {},
   "outputs": [
    {
     "name": "stdout",
     "output_type": "stream",
     "text": [
      "[3, 4, 5]\n"
     ]
    }
   ],
   "source": [
    "numList = [1,3,4,5,6,7]\n",
    "print(numList[1:4])\n"
   ]
  },
  {
   "cell_type": "code",
   "execution_count": 4,
   "metadata": {},
   "outputs": [
    {
     "name": "stdout",
     "output_type": "stream",
     "text": [
      "[1, 2, 3, 4, 5, 6]\n",
      "[1, 2, 3, 4, 5, 6]\n"
     ]
    }
   ],
   "source": [
    "l1 = [1,2,3]\n",
    "l2 = [4,5,6]\n",
    "l3 = l1 + l2\n",
    "print(l3)\n",
    "\n",
    "l1.extend(l2)\n",
    "print(l1)"
   ]
  },
  {
   "cell_type": "code",
   "execution_count": 8,
   "metadata": {},
   "outputs": [
    {
     "name": "stdout",
     "output_type": "stream",
     "text": [
      "[1, 2, 99, 3, 4, 5, 99, 99, 99]\n"
     ]
    }
   ],
   "source": [
    "nList = [1,2,3,4,5,99,99,99]\n",
    "nList.insert(2,99)\n",
    "print(nList)"
   ]
  },
  {
   "cell_type": "code",
   "execution_count": 9,
   "metadata": {},
   "outputs": [
    {
     "name": "stdout",
     "output_type": "stream",
     "text": [
      "[1, 2, 3, 4, 5, 99, 99, 99]\n"
     ]
    }
   ],
   "source": [
    "nList.remove(99)\n",
    "print(nList)"
   ]
  },
  {
   "cell_type": "code",
   "execution_count": 11,
   "metadata": {},
   "outputs": [
    {
     "name": "stdout",
     "output_type": "stream",
     "text": [
      "99\n",
      "[1, 2, 3, 4, 5, 99]\n"
     ]
    }
   ],
   "source": [
    "ind = nList.pop(5)\n",
    "print(ind)\n",
    "print(nList)"
   ]
  },
  {
   "cell_type": "code",
   "execution_count": 12,
   "metadata": {},
   "outputs": [
    {
     "name": "stdout",
     "output_type": "stream",
     "text": [
      "[]\n"
     ]
    }
   ],
   "source": [
    "nList.clear()\n",
    "print(nList)"
   ]
  },
  {
   "cell_type": "code",
   "execution_count": 16,
   "metadata": {},
   "outputs": [
    {
     "name": "stdout",
     "output_type": "stream",
     "text": [
      "5\n"
     ]
    }
   ],
   "source": [
    "nList = [11,22,33,44,44,55,66]\n",
    "x = nList.index(55)\n",
    "print(x)"
   ]
  },
  {
   "cell_type": "code",
   "execution_count": 19,
   "metadata": {},
   "outputs": [
    {
     "name": "stdout",
     "output_type": "stream",
     "text": [
      "[1, 2, 3, 7, 11, 45, 64]\n",
      "[64, 45, 11, 7, 3, 2, 1]\n"
     ]
    }
   ],
   "source": [
    "nList = [3,1,64,7,11,2,45]\n",
    "nList.sort()\n",
    "print(nList)\n",
    "print(nList[::-1])"
   ]
  },
  {
   "cell_type": "code",
   "execution_count": 18,
   "metadata": {},
   "outputs": [
    {
     "name": "stdout",
     "output_type": "stream",
     "text": [
      "[64, 45, 11, 7, 3, 2, 1]\n"
     ]
    }
   ],
   "source": [
    "nList.reverse()\n",
    "print(nList)"
   ]
  },
  {
   "cell_type": "code",
   "execution_count": 20,
   "metadata": {},
   "outputs": [
    {
     "name": "stdout",
     "output_type": "stream",
     "text": [
      "6\n"
     ]
    }
   ],
   "source": [
    "nList = [1,2,3]\n",
    "print(sum(nList))"
   ]
  },
  {
   "cell_type": "code",
   "execution_count": 23,
   "metadata": {},
   "outputs": [
    {
     "name": "stdout",
     "output_type": "stream",
     "text": [
      "ThorSpidermanUltraman\n",
      "ThorSpidermanUltraman\n"
     ]
    }
   ],
   "source": [
    "heroNames = ['Thor','Spiderman','Ultraman']\n",
    "myHero = ''\n",
    "for i in heroNames:\n",
    "    myHero += i\n",
    "print(myHero)\n",
    "\n",
    "myHero = ''\n",
    "for i in range(len(heroNames)):\n",
    "    myHero += heroNames[i]\n",
    "print(myHero)"
   ]
  },
  {
   "cell_type": "code",
   "execution_count": 24,
   "metadata": {},
   "outputs": [
    {
     "name": "stdout",
     "output_type": "stream",
     "text": [
      "3\n",
      "7\n",
      "12\n",
      "4\n",
      "8\n",
      "34\n"
     ]
    }
   ],
   "source": [
    "#Ex01 Find sum of all elements in the list\n",
    "\n",
    "numList = [3,7,12,4,8]\n",
    "\n",
    "mySum = 0\n",
    "for i in numList:\n",
    "    mySum += i\n",
    "    print(i)\n",
    "print(mySum)\n"
   ]
  },
  {
   "cell_type": "code",
   "execution_count": 32,
   "metadata": {
    "scrolled": true
   },
   "outputs": [
    {
     "name": "stdout",
     "output_type": "stream",
     "text": [
      "Loop #1 value is 3.\n",
      "Loop #2 value is 1.\n",
      "Loop #3 value is 1.\n",
      "Loop #4 value is 4.\n",
      "Loop #5 value is 1.\n",
      "Output is 12.\n",
      "\n",
      "\n",
      "Loop #1 value is 3.\n",
      "Loop #2 value is 1.\n",
      "Loop #3 value is 1.\n",
      "Loop #4 value is 4.\n",
      "Loop #5 value is 1.\n",
      "Output is 12.\n"
     ]
    }
   ],
   "source": [
    "numList = [3,1,1,4,1]\n",
    "\n",
    "mySum = 1\n",
    "loopNum = 1\n",
    "for i in numList:\n",
    "    mySum *= i\n",
    "    print(f'Loop #{loopNum} value is {i}.')\n",
    "    loopNum += 1\n",
    "print(f'Output is {mySum}.')\n",
    "\n",
    "\n",
    "print()\n",
    "print()\n",
    "mySum = 1\n",
    "for i in range(len(numList)):\n",
    "    mySum *= numList[i]\n",
    "    print(f'Loop #{i+1} value is {numList[i]}.')\n",
    "print(f'Output is {mySum}.')"
   ]
  },
  {
   "cell_type": "code",
   "execution_count": 34,
   "metadata": {},
   "outputs": [
    {
     "name": "stdout",
     "output_type": "stream",
     "text": [
      "The largest value is 5785.\n",
      "The smallest value is 1.\n"
     ]
    }
   ],
   "source": [
    "#Ex03 & 04 Find the largest and the smallest values from the list\n",
    "\n",
    "numList = [1,54,3,111,5785,23]\n",
    "\n",
    "#print(max(numList))\n",
    "#print(min(numList))\n",
    "\n",
    "myMax = float('-inf')\n",
    "myMin = float(\"inf\")\n",
    "\n",
    "for i in numList:\n",
    "    if i > myMax: #This logic is used to find a max value\n",
    "        myMax = i\n",
    "        \n",
    "    if i < myMin: #This is to find the lowest value\n",
    "        myMin = i\n",
    "\n",
    "print(f'The largest value is {myMax}.')\n",
    "print(f'The smallest value is {myMin}.')\n"
   ]
  },
  {
   "cell_type": "code",
   "execution_count": 35,
   "metadata": {},
   "outputs": [
    {
     "name": "stdout",
     "output_type": "stream",
     "text": [
      "The largest value is 5785.\n",
      "The smallest value is 1.\n"
     ]
    }
   ],
   "source": [
    "numList = [1,54,3,111,5785,23]\n",
    "myMax = float('-inf')\n",
    "myMin = float(\"inf\")\n",
    "\n",
    "for i in range(len(numList)):\n",
    "    if numList[i] > myMax: #This logic is used to find a max value\n",
    "        myMax = numList[i]\n",
    "        \n",
    "    if i < myMin: #This is to find the lowest value\n",
    "        myMin = numList[i]\n",
    "\n",
    "print(f'The largest value is {myMax}.')\n",
    "print(f'The smallest value is {myMin}.')"
   ]
  },
  {
   "cell_type": "code",
   "execution_count": 37,
   "metadata": {},
   "outputs": [
    {
     "name": "stdout",
     "output_type": "stream",
     "text": [
      "[1, 2, 3]\n",
      "[1, 2, 3]\n"
     ]
    }
   ],
   "source": [
    "nList = [1,2,3]\n",
    "outList = nList.copy()\n",
    "print(outList)\n",
    "\n",
    "outList2 = nList\n",
    "print(outList2)"
   ]
  },
  {
   "cell_type": "code",
   "execution_count": 43,
   "metadata": {},
   "outputs": [
    {
     "name": "stdout",
     "output_type": "stream",
     "text": [
      "There are 4 strings that meet the requirements.\n",
      "There are 4 strings that meet the requirements.\n"
     ]
    }
   ],
   "source": [
    "#Ex05 Count how many string that its length\n",
    "#is at least two, and the first letter is the same\n",
    "#as the last letter.\n",
    "\n",
    "strList = ['a123n','mam','slices','aa','m','kapook']\n",
    "count = 0\n",
    "\n",
    "for i in strList:\n",
    "    if len(i) >= 2 and i[0] == i[-1]:\n",
    "        count += 1\n",
    "print(f'There are {count} strings that meet the requirements.')\n",
    "\n",
    "\n",
    "count = 0\n",
    "for i in range(len(strList)):\n",
    "    if len(strList[i]) >= 2 and strList[i][0] == strList[i][-1]:\n",
    "        count += 1\n",
    "print(f'There are {count} strings that meet the requirements.')\n"
   ]
  },
  {
   "cell_type": "code",
   "execution_count": 46,
   "metadata": {},
   "outputs": [
    {
     "name": "stdout",
     "output_type": "stream",
     "text": [
      "m\n",
      "atm\n",
      "o\n"
     ]
    }
   ],
   "source": [
    "strList = ['Ironman','Batman','Superman']\n",
    "\n",
    "print(strList[1][3])\n",
    "print(strList[1][1:4])\n",
    "\n",
    "print(strList[0][2])"
   ]
  },
  {
   "cell_type": "code",
   "execution_count": 62,
   "metadata": {},
   "outputs": [
    {
     "name": "stdout",
     "output_type": "stream",
     "text": [
      "120003040\n"
     ]
    }
   ],
   "source": [
    "myNum = [10,200,30,40]\n",
    "\n",
    "myOut = 0\n",
    "\n",
    "for i in range(len(myNum)):\n",
    "    if i == len(myNum) - 1:\n",
    "        myOut += myNum[i]\n",
    "    else:\n",
    "        #print(myNum[i])\n",
    "        myOut *= 10**len(str(myNum[i]))\n",
    "        myOut += (myNum[i] * 10**len(str(myNum[i])))\n",
    "        #print(myOut)\n",
    "print(myOut)"
   ]
  },
  {
   "cell_type": "code",
   "execution_count": 61,
   "metadata": {},
   "outputs": [
    {
     "name": "stdout",
     "output_type": "stream",
     "text": [
      "10203770\n"
     ]
    }
   ],
   "source": [
    "myNum = [10,20,3770]\n",
    "myStr = ''\n",
    "\n",
    "for i in myNum:\n",
    "    myStr += str(i)\n",
    "\n",
    "print(int(myStr))"
   ]
  },
  {
   "cell_type": "code",
   "execution_count": 64,
   "metadata": {},
   "outputs": [
    {
     "name": "stdout",
     "output_type": "stream",
     "text": [
      "This list is an empty list.\n"
     ]
    }
   ],
   "source": [
    "myNum = []\n",
    "\n",
    "if len(myNum) != 0:\n",
    "    print(f'The length of this list is {len(myNum)}.')\n",
    "else:\n",
    "    print(f'This list is an empty list.')"
   ]
  },
  {
   "cell_type": "code",
   "execution_count": null,
   "metadata": {},
   "outputs": [],
   "source": []
  },
  {
   "cell_type": "code",
   "execution_count": 76,
   "metadata": {
    "scrolled": true
   },
   "outputs": [
    {
     "name": "stdout",
     "output_type": "stream",
     "text": [
      "[1, 2, 3] <class 'list'>\n",
      "[1, 2, 3] <class 'list'>\n",
      "[1, 2, 3] <class 'list'>\n",
      "[1, 2, 3] <class 'list'>\n",
      "[1, 2, 3] <class 'str'>\n",
      "['[', '1', ',', ' ', '2', ',', ' ', '3', ']']\n"
     ]
    }
   ],
   "source": [
    "#Ex08 Make a clone or copy of the list without using the\n",
    "#following two appraoches.\n",
    "\n",
    "nList = [1,2,3]\n",
    "outList = nList.copy()\n",
    "print(outList, type(outList))\n",
    "\n",
    "outList2 = nList\n",
    "print(outList2, type(outList2))\n",
    "\n",
    "outList3 = [i for i in nList]\n",
    "print(outList3, type(outList3))\n",
    "\n",
    "outList4 = []\n",
    "for i in nList:\n",
    "    outList4.append(i)\n",
    "print(outList4, type(outList4))\n",
    "\n",
    "outList5 = ''\n",
    "nList = str(nList)\n",
    "for i in nList:\n",
    "    outList5 += i\n",
    "print(outlist5, type(outList5))\n",
    "\n",
    "outList6 = list(outList5)\n",
    "print(outList6)"
   ]
  },
  {
   "cell_type": "code",
   "execution_count": 75,
   "metadata": {},
   "outputs": [
    {
     "name": "stdout",
     "output_type": "stream",
     "text": [
      "['[', '2', ',', '3', ',', '4', ']']\n"
     ]
    }
   ],
   "source": [
    "test = '[2,3,4]'\n",
    "print(list(test))"
   ]
  },
  {
   "cell_type": "code",
   "execution_count": 77,
   "metadata": {},
   "outputs": [
    {
     "name": "stdout",
     "output_type": "stream",
     "text": [
      "Enter a multiple integer value: 10 23 56 55 99\n",
      "Number of list is:  [10, 23, 56, 55, 99]\n"
     ]
    }
   ],
   "source": [
    "x = [int(x) for x in input(\"Enter a multiple integer value: \").split()]\n",
    "print(\"Number of list is: \", x)"
   ]
  },
  {
   "cell_type": "code",
   "execution_count": 78,
   "metadata": {},
   "outputs": [
    {
     "name": "stdout",
     "output_type": "stream",
     "text": [
      "Enter a multiple integer value: 34,6789,34556,1,2,56\n",
      "Number of list is:  [34, 6789, 34556, 1, 2, 56]\n"
     ]
    }
   ],
   "source": [
    "x = [int(x) for x in input(\"Enter a multiple integer value: \").split(',')]\n",
    "print(\"Number of list is: \", x)"
   ]
  },
  {
   "cell_type": "code",
   "execution_count": 79,
   "metadata": {},
   "outputs": [
    {
     "name": "stdout",
     "output_type": "stream",
     "text": [
      "Enter a multiple value: 1 3 6 8 122 99 897\n",
      "['1', '3', '6', '8', '122', '99', '897']\n"
     ]
    }
   ],
   "source": [
    "MyList2 = list((input(\"Enter a multiple value: \").split()))\n",
    "print(MyList2)"
   ]
  },
  {
   "cell_type": "code",
   "execution_count": 82,
   "metadata": {},
   "outputs": [
    {
     "name": "stdout",
     "output_type": "stream",
     "text": [
      "Enter a multiple value: 1 2 3\n"
     ]
    },
    {
     "ename": "TypeError",
     "evalue": "int() argument must be a string, a bytes-like object or a number, not 'list'",
     "output_type": "error",
     "traceback": [
      "\u001b[1;31m---------------------------------------------------------------------------\u001b[0m",
      "\u001b[1;31mTypeError\u001b[0m                                 Traceback (most recent call last)",
      "Input \u001b[1;32mIn [82]\u001b[0m, in \u001b[0;36m<cell line: 1>\u001b[1;34m()\u001b[0m\n\u001b[1;32m----> 1\u001b[0m MyList2 \u001b[38;5;241m=\u001b[39m \u001b[38;5;28mlist\u001b[39m((\u001b[38;5;28;43mint\u001b[39;49m\u001b[43m(\u001b[49m\u001b[38;5;28;43minput\u001b[39;49m\u001b[43m(\u001b[49m\u001b[38;5;124;43m\"\u001b[39;49m\u001b[38;5;124;43mEnter a multiple value: \u001b[39;49m\u001b[38;5;124;43m\"\u001b[39;49m\u001b[43m)\u001b[49m\u001b[38;5;241;43m.\u001b[39;49m\u001b[43msplit\u001b[49m\u001b[43m(\u001b[49m\u001b[43m)\u001b[49m\u001b[43m)\u001b[49m))\n\u001b[0;32m      2\u001b[0m \u001b[38;5;28mprint\u001b[39m(MyList2)\n",
      "\u001b[1;31mTypeError\u001b[0m: int() argument must be a string, a bytes-like object or a number, not 'list'"
     ]
    }
   ],
   "source": [
    "MyList2 = list((input(\"Enter a multiple value: \").split()))\n",
    "print(MyList2)"
   ]
  },
  {
   "cell_type": "code",
   "execution_count": 86,
   "metadata": {},
   "outputs": [
    {
     "name": "stdout",
     "output_type": "stream",
     "text": [
      "Enter: 1 2 3\n",
      "['1', '2', '3']\n"
     ]
    }
   ],
   "source": [
    "myNum = list(input('Enter: ').split())\n",
    "print(myNum)"
   ]
  },
  {
   "cell_type": "code",
   "execution_count": 1,
   "metadata": {},
   "outputs": [
    {
     "name": "stdout",
     "output_type": "stream",
     "text": [
      "Enter a multiple value: 10 10 10 20 60 John John Tom 40\n",
      "['10', '20', '60', 'John', 'Tom', '40']\n"
     ]
    }
   ],
   "source": [
    "#Week08 ASM2\n",
    "\n",
    "myStr = list((input(\"Enter a multiple value: \").split()))\n",
    "uniqueList = []\n",
    "\n",
    "for s in myStr:\n",
    "    if s not in uniqueList:\n",
    "        uniqueList.append(s)\n",
    "        \n",
    "print(uniqueList)"
   ]
  },
  {
   "cell_type": "code",
   "execution_count": 9,
   "metadata": {},
   "outputs": [
    {
     "name": "stdout",
     "output_type": "stream",
     "text": [
      "44\n",
      "91044\n",
      "169091044\n"
     ]
    }
   ],
   "source": [
    "#Convert a list of integers into a single integer\n",
    "#without using string features.\n",
    "\n",
    "myNum = [1690,910,44]\n",
    "myOut = 0\n",
    "for i in range(len(myNum)-1, -1, -1):\n",
    "    \n",
    "    if i == len(myNum)-1:\n",
    "        myOut += myNum[i]\n",
    "        print(myOut)\n",
    "    else:\n",
    "        myOut += myNum[i] * (10**len(str(myOut)))\n",
    "        print(myOut)\n",
    "#print(myOut)\n",
    "        "
   ]
  },
  {
   "cell_type": "code",
   "execution_count": 11,
   "metadata": {},
   "outputs": [
    {
     "name": "stdout",
     "output_type": "stream",
     "text": [
      "[10, 20, 20, 20, 30, 40]\n",
      "3\n"
     ]
    }
   ],
   "source": [
    "myNum = [10,20,20,20,20,30,40]\n",
    "remove = 20\n",
    "myNum.remove(20)\n",
    "print(myNum)\n",
    "\n",
    "print(myNum.count(20))\n",
    "\n",
    "\n",
    "#Try remove 20 from this list without creating a new list\n",
    "# or couting how many 20s are there in the list and remove 20 based on \n",
    "# the value you can count."
   ]
  },
  {
   "cell_type": "code",
   "execution_count": 13,
   "metadata": {},
   "outputs": [
    {
     "name": "stdout",
     "output_type": "stream",
     "text": [
      "4\n",
      "[10, 30, 40]\n"
     ]
    }
   ],
   "source": [
    "#Remove 20 by counting how many 20 are there in the list\n",
    "#and use a for-loop with .remove() where a number of loops is\n",
    "#equal to a total number of 20 in the list.\n",
    "\n",
    "myNum = [10,20,20,20,20,30,40]\n",
    "c = myNum.count(20)\n",
    "print(c)\n",
    "\n",
    "for i in range(4):\n",
    "    myNum.remove(20)\n",
    "print(myNum)"
   ]
  },
  {
   "cell_type": "code",
   "execution_count": 14,
   "metadata": {},
   "outputs": [
    {
     "name": "stdout",
     "output_type": "stream",
     "text": [
      "20 [10, 20, 20, 20, 30, 40]\n",
      "20 [10, 20, 20, 30, 40]\n"
     ]
    }
   ],
   "source": [
    "#Removing 20 from a list with for-loop and in method will\n",
    "#cause a loop to skip certain elements.\n",
    "\n",
    "myNum = [10,20,20,20,20,30,40]\n",
    "\n",
    "for i in myNum:\n",
    "    if i == 20:\n",
    "        myNum.remove(i)\n",
    "        print(i, myNum)\n",
    "    \n"
   ]
  },
  {
   "cell_type": "code",
   "execution_count": 21,
   "metadata": {},
   "outputs": [
    {
     "name": "stdout",
     "output_type": "stream",
     "text": [
      "0 10\n",
      "1 [10, 20, 20, 20, 20, 30, 40] 7\n",
      "1 20\n",
      "1 [10, 20, 20, 20, 30, 40] 6\n",
      "1 20\n",
      "1 [10, 20, 20, 30, 40] 5\n",
      "1 20\n",
      "1 [10, 20, 30, 40] 4\n",
      "1 20\n",
      "1 [10, 30, 40] 3\n",
      "1 30\n",
      "2 [10, 30, 40] 3\n",
      "2 40\n",
      "3 [10, 30, 40] 3\n"
     ]
    }
   ],
   "source": [
    "#Remove 20 by appropriately handling an indexing value.\n",
    "\n",
    "myNum = [10,20,20,20,20,30,40]\n",
    "\n",
    "i = 0\n",
    "\n",
    "while i < len(myNum):\n",
    "    #print(myNum[i])\n",
    "    print(i, myNum[i])\n",
    "    if myNum[i] == 20:\n",
    "        myNum.remove(myNum[i])\n",
    "        i -= 1\n",
    "    i += 1\n",
    "    print(i, myNum, len(myNum))"
   ]
  },
  {
   "cell_type": "code",
   "execution_count": 17,
   "metadata": {},
   "outputs": [
    {
     "name": "stdout",
     "output_type": "stream",
     "text": [
      "[10, 30, 40]\n"
     ]
    }
   ],
   "source": [
    "myNum = [10,20,20,20,20,30,40]\n",
    "while 20 in myNum:\n",
    "    myNum.remove(20)\n",
    "print(myNum)"
   ]
  },
  {
   "cell_type": "code",
   "execution_count": 43,
   "metadata": {},
   "outputs": [
    {
     "name": "stdout",
     "output_type": "stream",
     "text": [
      "19\n",
      "Inner loop is entered. 20\n",
      "First remove is executed. 20 [20, 30, 20, 20]\n",
      "Inner loop is entered. 30\n",
      "Inner loop is entered. 20\n",
      "First remove is executed. 20 [30, 20, 20]\n",
      "Inner loop exits before second remove 20 [30, 20, 20]\n",
      "Inner loop exits after second remove 20 [30, 20]\n",
      "19\n",
      "Inner loop is entered. 30\n",
      "Inner loop is entered. 20\n",
      "First remove is executed. 20 [30]\n",
      "Inner loop exits before second remove 20 [30]\n"
     ]
    },
    {
     "ename": "ValueError",
     "evalue": "list.remove(x): x not in list",
     "output_type": "error",
     "traceback": [
      "\u001b[1;31m---------------------------------------------------------------------------\u001b[0m",
      "\u001b[1;31mValueError\u001b[0m                                Traceback (most recent call last)",
      "Input \u001b[1;32mIn [43]\u001b[0m, in \u001b[0;36m<cell line: 3>\u001b[1;34m()\u001b[0m\n\u001b[0;32m     11\u001b[0m                 \u001b[38;5;28mprint\u001b[39m(\u001b[38;5;124m'\u001b[39m\u001b[38;5;124mFirst remove is executed.\u001b[39m\u001b[38;5;124m'\u001b[39m, j, li)\n\u001b[0;32m     12\u001b[0m         \u001b[38;5;28mprint\u001b[39m(\u001b[38;5;124m'\u001b[39m\u001b[38;5;124mInner loop exits before second remove\u001b[39m\u001b[38;5;124m'\u001b[39m, j, li)\n\u001b[1;32m---> 13\u001b[0m         \u001b[43mli\u001b[49m\u001b[38;5;241;43m.\u001b[39;49m\u001b[43mremove\u001b[49m\u001b[43m(\u001b[49m\u001b[43mi\u001b[49m\u001b[43m)\u001b[49m\n\u001b[0;32m     14\u001b[0m         \u001b[38;5;28mprint\u001b[39m(\u001b[38;5;124m'\u001b[39m\u001b[38;5;124mInner loop exits after second remove\u001b[39m\u001b[38;5;124m'\u001b[39m, j, li)\n\u001b[0;32m     17\u001b[0m \u001b[38;5;28mprint\u001b[39m(li)\n",
      "\u001b[1;31mValueError\u001b[0m: list.remove(x): x not in list"
     ]
    }
   ],
   "source": [
    "li=[20,20,30,20,20];\n",
    "x=len(li)\n",
    "for i in li:\n",
    "    if i==20:\n",
    "        j=i-1\n",
    "        print(j)\n",
    "        for j in li:\n",
    "            print('Inner loop is entered.', j)\n",
    "            if j==20:\n",
    "                li.remove(j)\n",
    "                print('First remove is executed.', j, li)\n",
    "        print('Inner loop exits before second remove', j, li)\n",
    "        li.remove(i)\n",
    "        print('Inner loop exits after second remove', j, li)\n",
    "       \n",
    "        \n",
    "print(li)"
   ]
  },
  {
   "cell_type": "code",
   "execution_count": 62,
   "metadata": {},
   "outputs": [
    {
     "name": "stdout",
     "output_type": "stream",
     "text": [
      "i loop 20\n",
      "[20, 20, 20, 10]\n",
      "j loop 20\n",
      "20 [20, 20, 10]\n",
      "k loop 20\n",
      "20 [20, 10]\n",
      "k loop 10\n",
      "j loop 10\n",
      "i loop 10\n",
      "Final list [20, 10]\n"
     ]
    }
   ],
   "source": [
    "li = [20,20,20,20,10]\n",
    "for i in li:\n",
    "    print('i loop', i)\n",
    "    if i==20:\n",
    "        li.remove(i)\n",
    "        print(li)\n",
    "        for j in li:\n",
    "            print('j loop', j)\n",
    "            if j==20:\n",
    "                li.remove(j)\n",
    "                print(j, li)\n",
    "                for k in li:\n",
    "                    print('k loop', k)\n",
    "                    if k==20:\n",
    "                        li.remove(k)\n",
    "                        print(k, li)\n",
    "print('Final list', li)"
   ]
  },
  {
   "cell_type": "code",
   "execution_count": 71,
   "metadata": {},
   "outputs": [],
   "source": [
    "c = 1\n",
    "x = 50\n",
    "i = 0\n",
    "while c <= 10:\n",
    "    #print(f'{i+1} Iteration (loop)')\n",
    "    c += 1\n",
    "    #print('line 5',c,x)\n",
    "    if c// 3 == 2:\n",
    "        x -= c\n",
    "    elif c%2 == 0:\n",
    "        x += c\n",
    "    c += 1\n",
    "    #print('line 10',c,x)\n",
    "    #i += 1"
   ]
  },
  {
   "cell_type": "code",
   "execution_count": 74,
   "metadata": {},
   "outputs": [
    {
     "name": "stdout",
     "output_type": "stream",
     "text": [
      "Sprmn\n"
     ]
    }
   ],
   "source": [
    "myStr = 'Superman'\n",
    "outStr = ''\n",
    "for s in myStr:\n",
    "    if s not in 'aeiouAEIOU':\n",
    "        outStr += s\n",
    "print(outStr)"
   ]
  },
  {
   "cell_type": "code",
   "execution_count": 80,
   "metadata": {},
   "outputs": [
    {
     "name": "stdout",
     "output_type": "stream",
     "text": [
      "['Sprmn', 'Tm', 'vngr', 'Strng']\n"
     ]
    }
   ],
   "source": [
    "myStr = ['Superman', 'Tom', 'Avenger', 'Strange']\n",
    "outList = []\n",
    "\n",
    "for i in myStr:\n",
    "    outStr = ''\n",
    "    for s in i:\n",
    "        if s not in 'aeiouAEIOU':\n",
    "            outStr += s\n",
    "    outList.append(outStr)\n",
    "\n",
    "print(outList)"
   ]
  },
  {
   "cell_type": "code",
   "execution_count": null,
   "metadata": {},
   "outputs": [],
   "source": []
  },
  {
   "cell_type": "code",
   "execution_count": null,
   "metadata": {},
   "outputs": [],
   "source": [
    "myList = [12,'234',334,35,'3113']"
   ]
  },
  {
   "cell_type": "code",
   "execution_count": 73,
   "metadata": {},
   "outputs": [
    {
     "name": "stdout",
     "output_type": "stream",
     "text": [
      "This variable is an Integer data type.\n"
     ]
    }
   ],
   "source": [
    "sample = 123\n",
    "\n",
    "if type(sample) is str:\n",
    "    print('This variable is a String data type.')\n",
    "elif type(sample) is int:\n",
    "    print('This variable is an Integer data type.')"
   ]
  },
  {
   "cell_type": "code",
   "execution_count": 4,
   "metadata": {},
   "outputs": [
    {
     "name": "stdout",
     "output_type": "stream",
     "text": [
      "Enter words: keep working hard so you pass the course\n",
      "** wrkng hrd * * pss ** crs \n"
     ]
    }
   ],
   "source": [
    "words = list(input('Enter words: ').split())\n",
    "outwords = []\n",
    "for w in words:\n",
    "    outstr = ''\n",
    "    for ch in w:        \n",
    "        if ch not in 'AEIOUaeiou':\n",
    "            outstr += ch\n",
    "    if len(outstr) < 3:\n",
    "        outwords.append('*'*len(outstr) + ' ')\n",
    "    else:\n",
    "        outwords.append(outstr + ' ')\n",
    "print(''.join(outwords))"
   ]
  },
  {
   "cell_type": "code",
   "execution_count": 8,
   "metadata": {},
   "outputs": [
    {
     "name": "stdout",
     "output_type": "stream",
     "text": [
      "Enter numbers: 10 20 30 5 5 1\n",
      "10.0\n"
     ]
    }
   ],
   "source": [
    "nList = [int(x) for x in input('Enter numbers: ').split()]\n",
    "nList.sort()\n",
    "avg = sum(nList[1:len(nList)-1]) / (len(nList)-2)\n",
    "print(f'The avg value is {avg}.')"
   ]
  },
  {
   "cell_type": "code",
   "execution_count": 9,
   "metadata": {},
   "outputs": [
    {
     "name": "stdout",
     "output_type": "stream",
     "text": [
      "Enter numbers: 1 2 8 4 6\n",
      "[2, 4, 6]\n"
     ]
    }
   ],
   "source": [
    "nList = [int(x) for x in input('Enter numbers: ').split()]\n",
    "nList.remove(max(nList))\n",
    "nList.remove(min(nList))\n",
    "avg = sum(nList) / len(nList)\n",
    "print(f'The avg value is {avg}.')"
   ]
  },
  {
   "cell_type": "markdown",
   "metadata": {},
   "source": [
    "# Class09 - Nested List\n",
    "# 25 Aug 2022"
   ]
  },
  {
   "cell_type": "code",
   "execution_count": 12,
   "metadata": {},
   "outputs": [
    {
     "name": "stdout",
     "output_type": "stream",
     "text": [
      "[[2, 4, 6]]\n",
      "[[2, 4, 6], [8, 10, 12]]\n",
      "2\n",
      "4\n",
      "6\n",
      "8\n",
      "10\n",
      "12\n"
     ]
    }
   ],
   "source": [
    "exList = []\n",
    "exList.append([2,4,6])\n",
    "print(exList)\n",
    "exList.append([8,10,12])\n",
    "print(exList)\n",
    "for i in range(len(exList)):\n",
    "    for j in range(len(exList[i])):\n",
    "        print(exList[i][j],end='')\n",
    "        print()"
   ]
  },
  {
   "cell_type": "code",
   "execution_count": 14,
   "metadata": {},
   "outputs": [
    {
     "name": "stdout",
     "output_type": "stream",
     "text": [
      "10.5 is not an integer\n"
     ]
    }
   ],
   "source": [
    "x = 10.5\n",
    "if type(x) == int:\n",
    "    print(f'{x} is an integer..')\n",
    "else:\n",
    "    print(f'{x} is not an integer')"
   ]
  },
  {
   "cell_type": "code",
   "execution_count": 16,
   "metadata": {},
   "outputs": [
    {
     "name": "stdout",
     "output_type": "stream",
     "text": [
      "No it is not a string\n"
     ]
    }
   ],
   "source": [
    "x = 20.5\n",
    "\n",
    "if isinstance(x, str):\n",
    "    print('Yes it is a string.')\n",
    "else:\n",
    "    print('No it is not a string')"
   ]
  },
  {
   "cell_type": "code",
   "execution_count": 19,
   "metadata": {},
   "outputs": [
    {
     "name": "stdout",
     "output_type": "stream",
     "text": [
      "Not a subset\n"
     ]
    }
   ],
   "source": [
    "#1.1 \n",
    "subList = [1,2,99,3]\n",
    "mainList = [3,6,1,8,9,5,2]\n",
    "\n",
    "for i in subList:\n",
    "    if i not in mainList:\n",
    "        print('Not a subset')\n",
    "        break\n",
    "else:\n",
    "    print('Yes a subset')"
   ]
  },
  {
   "cell_type": "code",
   "execution_count": 22,
   "metadata": {},
   "outputs": [
    {
     "name": "stdout",
     "output_type": "stream",
     "text": [
      "Yes a subset\n"
     ]
    }
   ],
   "source": [
    "subList = [1,2,3,3,3]\n",
    "mainList = [3,6,1,8,9,5,2]\n",
    "flag = True\n",
    "for i in subList:\n",
    "    if i not in mainList:\n",
    "        flag = False\n",
    "        break\n",
    "\n",
    "if flag:\n",
    "    print('Yes a subset')\n",
    "else:\n",
    "    print('No not a subset')"
   ]
  },
  {
   "cell_type": "code",
   "execution_count": 24,
   "metadata": {},
   "outputs": [
    {
     "name": "stdout",
     "output_type": "stream",
     "text": [
      "No not a subset\n"
     ]
    }
   ],
   "source": [
    "subList = [1,2,3,3,3,100]\n",
    "mainList = [3,6,1,8,9,5,2]\n",
    "count = 0\n",
    "for i in subList:\n",
    "    if i in mainList:\n",
    "        count += 1\n",
    "if count == len(subList):\n",
    "    print('Yes a subset')\n",
    "else:\n",
    "    print('No not a subset')"
   ]
  },
  {
   "cell_type": "code",
   "execution_count": 26,
   "metadata": {},
   "outputs": [
    {
     "name": "stdout",
     "output_type": "stream",
     "text": [
      "Yes a subset\n"
     ]
    }
   ],
   "source": [
    "#1.2\n",
    "\n",
    "subList = [1,2,3,3]\n",
    "mainList = [3,6,1,8,9,3,5,2]\n",
    "\n",
    "copyList = subList.copy()\n",
    "\n",
    "for i in subList:\n",
    "    if i in mainList:\n",
    "        copyList.remove(i)\n",
    "        mainList.remove(i)\n",
    "if len(copyList) == 0:\n",
    "    print('Yes a subset')\n",
    "else:\n",
    "    print('No not a subset')"
   ]
  },
  {
   "cell_type": "code",
   "execution_count": 31,
   "metadata": {
    "scrolled": true
   },
   "outputs": [
    {
     "name": "stdout",
     "output_type": "stream",
     "text": [
      "Yes a subset\n"
     ]
    }
   ],
   "source": [
    "#1.2\n",
    "subList = [1,3,2,3]\n",
    "mainList = [3,6,1,8,9,3,5,2]\n",
    "for i in subList:\n",
    "    if i in mainList:\n",
    "        mainList.remove(i)\n",
    "        flag = True\n",
    "    else:\n",
    "        print('No a subset')\n",
    "        flag = False\n",
    "        break\n",
    "if flag:\n",
    "    print('Yes a subset')"
   ]
  },
  {
   "cell_type": "code",
   "execution_count": 34,
   "metadata": {
    "scrolled": true
   },
   "outputs": [
    {
     "name": "stdout",
     "output_type": "stream",
     "text": [
      "No a subset\n"
     ]
    }
   ],
   "source": [
    "#1.2 a function\n",
    "subList = [1,3,2,3,3,3,3,3]\n",
    "mainList = [3,6,1,8,9,3,5,2]\n",
    "def SubsetList(l1, l2):\n",
    "    for i in subList:\n",
    "        if i in mainList:\n",
    "            mainList.remove(i)\n",
    "            flag = True\n",
    "        else:\n",
    "            print('No a subset')\n",
    "            flag = False\n",
    "            break\n",
    "    if flag:\n",
    "        print('Yes a subset')\n",
    "        \n",
    "SubsetList(subList, mainList)"
   ]
  },
  {
   "cell_type": "code",
   "execution_count": 38,
   "metadata": {},
   "outputs": [
    {
     "name": "stdout",
     "output_type": "stream",
     "text": [
      "[1, 4, 6, 7, 15]\n",
      "['Five', 'Eight']\n",
      "[4.9, 100.2]\n",
      "[[2, 2, 2], {5, 6}]\n"
     ]
    }
   ],
   "source": [
    "#Q2\n",
    "NumList = [1, 4.9, 4, \"Five\", 6, 7, \"Eight\", 100.2, 15,[2,2,2],{5,6}]\n",
    "\n",
    "intList = []\n",
    "strList = []\n",
    "fltList = []\n",
    "mixedList = []\n",
    "for i in NumList:\n",
    "    if type(i) == int:\n",
    "        intList.append(i)\n",
    "    elif isinstance(i, float):\n",
    "        fltList.append(i)\n",
    "    elif type(i) == str:\n",
    "        strList.append(i)\n",
    "    else:\n",
    "        mixedList.append(i)\n",
    "print(intList)\n",
    "print(strList)\n",
    "print(fltList)\n",
    "print(mixedList)\n",
    "        \n",
    "        \n"
   ]
  },
  {
   "cell_type": "code",
   "execution_count": 40,
   "metadata": {},
   "outputs": [
    {
     "name": "stdout",
     "output_type": "stream",
     "text": [
      "Enter values: 1 2.5 tom peter 5.5 9 78\n",
      "[1, 9, 78]\n",
      "['tom', 'peter']\n",
      "[2.5, 5.5]\n"
     ]
    }
   ],
   "source": [
    "inputList = [x for x in input('Enter values: ').split()]\n",
    "temp_int = []\n",
    "temp_float = []\n",
    "temp_str = []\n",
    "for i in inputList:\n",
    "    try :\n",
    "        temp=int(i)\n",
    "        temp_int.append(temp)\n",
    "    except:\n",
    "        try:\n",
    "            temp=float(i)\n",
    "            temp_float.append(temp)\n",
    "        except:\n",
    "            temp=str(i)\n",
    "            temp_str.append(temp)\n",
    "print(temp_int)\n",
    "print(temp_str)\n",
    "print(temp_float)"
   ]
  },
  {
   "cell_type": "code",
   "execution_count": 43,
   "metadata": {},
   "outputs": [
    {
     "name": "stdout",
     "output_type": "stream",
     "text": [
      "2 4 10 \n",
      "10 20 50 \n",
      "20 40 *** \n",
      "40 80 *** \n"
     ]
    }
   ],
   "source": [
    "#Ex03\n",
    "\n",
    "ListA = [2,4,10]\n",
    "ListB = [1,5,10,20]\n",
    "\n",
    "for i in ListB:\n",
    "    for j in ListA:\n",
    "        if i*j >= 100:\n",
    "            print('*'*len(str(i*j)), end = ' ')\n",
    "        else:\n",
    "            print(i*j, end = ' ')\n",
    "    print()"
   ]
  },
  {
   "cell_type": "code",
   "execution_count": 49,
   "metadata": {
    "scrolled": true
   },
   "outputs": [
    {
     "name": "stdout",
     "output_type": "stream",
     "text": [
      "  2   4  10 \n",
      " 10  20  50 \n",
      " 20  40 *** \n",
      " 40  80 *** \n"
     ]
    }
   ],
   "source": [
    "ListA = [2,4,10]\n",
    "ListB = [1,5,10,20]\n",
    "\n",
    "for i in ListB:\n",
    "    for j in ListA:\n",
    "        if i*j >= 100:\n",
    "            print('***', end = ' ')\n",
    "        else:\n",
    "            print(f'{i*j:3d}', end = ' ')\n",
    "    print()"
   ]
  },
  {
   "cell_type": "code",
   "execution_count": 50,
   "metadata": {
    "scrolled": true
   },
   "outputs": [
    {
     "name": "stdout",
     "output_type": "stream",
     "text": [
      "[1, 2, 3, 4, 5, 6]\n"
     ]
    }
   ],
   "source": [
    "a = [1,2,3]\n",
    "b = [4,5,6]\n",
    "c = a + b\n",
    "print(c)"
   ]
  },
  {
   "cell_type": "code",
   "execution_count": 51,
   "metadata": {},
   "outputs": [
    {
     "name": "stdout",
     "output_type": "stream",
     "text": [
      "[2, 3, 4, 5, 56, 76]\n"
     ]
    }
   ],
   "source": [
    "test = [1,2,3,4,5,56,76,7]\n",
    "print(test[1:-1])"
   ]
  },
  {
   "cell_type": "code",
   "execution_count": 52,
   "metadata": {},
   "outputs": [
    {
     "name": "stdout",
     "output_type": "stream",
     "text": [
      "[10, 20, 30, 3, 5, 6, 7, 11, 22, 33]\n"
     ]
    }
   ],
   "source": [
    "#Ex04\n",
    "List_1 = [1,3,5,6,7,8]\n",
    "List_2 = [10,20,30]\n",
    "List_3 = [11,22,33]\n",
    "\n",
    "outList = List_2 + List_1[1:-1] + List_3\n",
    "print(outList)"
   ]
  },
  {
   "cell_type": "code",
   "execution_count": 53,
   "metadata": {},
   "outputs": [
    {
     "name": "stdout",
     "output_type": "stream",
     "text": [
      "[10, 20, 30, 3, 5, 6, 7, 11, 22, 33]\n"
     ]
    }
   ],
   "source": [
    "#Ex04 without using list concatenation\n",
    "List_1 = [1,3,5,6,7,8]\n",
    "List_2 = [10,20,30]\n",
    "List_3 = [11,22,33]\n",
    "outList = []\n",
    "for i in List_2:\n",
    "    outList.append(i)\n",
    "for i in List_1[1:-1]:\n",
    "    outList.append(i)\n",
    "for i in List_3:\n",
    "    outList.append(i)\n",
    "print(outList)"
   ]
  },
  {
   "cell_type": "code",
   "execution_count": 7,
   "metadata": {},
   "outputs": [
    {
     "name": "stdout",
     "output_type": "stream",
     "text": [
      "The max value is 100.\n",
      "The min value is -3.\n",
      "The max value is 100.\n",
      "The min value is -3.\n",
      "The max value is 100.\n",
      "The min value is -3.\n"
     ]
    }
   ],
   "source": [
    "#Ex05\n",
    "\n",
    "nList = [[2,5,99],[-3,8,9,10],[1, 7,100]]\n",
    "myMax = float(\"-inf\")\n",
    "myMin = float(\"inf\")\n",
    "\n",
    "for i in nList: # i will be each sublist\n",
    "    for j in i: # j will be each element\n",
    "        if j > myMax:\n",
    "            myMax = j\n",
    "        if j < myMin:\n",
    "            myMin = j\n",
    "print(f'The max value is {myMax}.')\n",
    "print(f'The min value is {myMin}.')\n",
    "\n",
    "mList = []\n",
    "for n in nList:\n",
    "    mList += n\n",
    "mList.sort()\n",
    "print(f'The max value is {mList[-1]}.')\n",
    "print(f'The min value is {mList[0]}.')\n",
    "\n",
    "mList = []\n",
    "for n in nList:\n",
    "    mList.extend(n)\n",
    "mList.sort()\n",
    "print(f'The max value is {mList[-1]}.')\n",
    "print(f'The min value is {mList[0]}.')"
   ]
  },
  {
   "cell_type": "code",
   "execution_count": 8,
   "metadata": {},
   "outputs": [
    {
     "name": "stdout",
     "output_type": "stream",
     "text": [
      "Output is [[2, 5, 99], [-3, 8, 1, 10], [7, 100]]\n"
     ]
    }
   ],
   "source": [
    "#Ex06\n",
    "\n",
    "nList = [[2,5,99,99],[-3,8,1,2,10],[1, 7,100,10]]\n",
    "oList = []\n",
    "uList = []\n",
    "for i in nList:\n",
    "    sList = []\n",
    "    for j in i:\n",
    "        if j not in uList:\n",
    "            uList.append(j)\n",
    "            sList.append(j)\n",
    "    oList.append(sList)\n",
    "    \n",
    "print(f'Output is {oList}')\n"
   ]
  },
  {
   "cell_type": "markdown",
   "metadata": {},
   "source": [
    "# Class 10 Functions in Python\n",
    "## 1 Sep 2022"
   ]
  },
  {
   "cell_type": "code",
   "execution_count": 10,
   "metadata": {},
   "outputs": [
    {
     "name": "stdout",
     "output_type": "stream",
     "text": [
      "Hello Harry Peter\n",
      "30\n"
     ]
    }
   ],
   "source": [
    "def printHarry():\n",
    "    a = 10\n",
    "    b = 20\n",
    "    print('Hello Harry Peter')\n",
    "    print(a+b)\n",
    "    \n",
    "printHarry()"
   ]
  },
  {
   "cell_type": "code",
   "execution_count": 15,
   "metadata": {},
   "outputs": [
    {
     "name": "stdout",
     "output_type": "stream",
     "text": [
      "0.4606306302268288\n",
      "0.4606306302268288\n",
      "0.9212612604536576\n"
     ]
    }
   ],
   "source": [
    "from random import random\n",
    "def GenRandom():\n",
    "    x = random()\n",
    "    print(x)\n",
    "    return x, 2*x\n",
    "\n",
    "myRan, myRan2 = GenRandom()\n",
    "print(myRan)\n",
    "print(myRan2)"
   ]
  },
  {
   "cell_type": "code",
   "execution_count": 24,
   "metadata": {},
   "outputs": [
    {
     "name": "stdout",
     "output_type": "stream",
     "text": [
      "10 100 110\n"
     ]
    }
   ],
   "source": [
    "def AddNPrint(a,b):\n",
    "    c = a + b\n",
    "    print(a,b,c)\n",
    "\n",
    "x = 100\n",
    "AddNPrint(10,100)"
   ]
  },
  {
   "cell_type": "code",
   "execution_count": 20,
   "metadata": {},
   "outputs": [
    {
     "name": "stdout",
     "output_type": "stream",
     "text": [
      "[[2, 5, 919, 99], [-3, 8, 1, 10], [7, 100]]\n",
      "[[2, 5, 99], [-3, 8, 1, 10], [7, 100]]\n",
      "[[2, 5, 15, 99], [-3, 8, 1, 10], [7, 100]]\n"
     ]
    }
   ],
   "source": [
    "def printUnique(myList):\n",
    "    oList = []\n",
    "    uList = []\n",
    "    for i in myList:\n",
    "        sList = []\n",
    "        for j in i:\n",
    "            if j not in uList:\n",
    "                uList.append(j)\n",
    "                sList.append(j)\n",
    "        oList.append(sList)\n",
    "    return oList\n",
    "\n",
    "nList1 = [[2,5,919,99],[-3,8,1,2,10],[1, 7,100,10]]\n",
    "nList2 = [[2,5,99,5],[-3,8,1,2,10],[1, 7,100,10]]\n",
    "nList3 = [[2,5,15,99],[-3,8,1,2,10],[1, 7,100,10]]\n",
    "nList4 = [[2,5,919,99],[-3,8,1,2,10],[1, 7,100,10]]\n",
    "nList5 = [[2,5,99,909],[-3,8,1,2,10],[1, 7,100,10]]\n",
    "\n",
    "o1 = printUnique(nList1)\n",
    "print(o1)\n",
    "o2 = printUnique(nList2)\n",
    "print(o2)\n",
    "o3 = printUnique(nList3)\n",
    "print(o3)"
   ]
  },
  {
   "cell_type": "code",
   "execution_count": 27,
   "metadata": {},
   "outputs": [
    {
     "name": "stdout",
     "output_type": "stream",
     "text": [
      "Carsin stock incldues Honda\n",
      "Carsin stock incldues Ferrari\n"
     ]
    },
    {
     "ename": "IndexError",
     "evalue": "tuple index out of range",
     "output_type": "error",
     "traceback": [
      "\u001b[1;31m---------------------------------------------------------------------------\u001b[0m",
      "\u001b[1;31mIndexError\u001b[0m                                Traceback (most recent call last)",
      "Input \u001b[1;32mIn [27]\u001b[0m, in \u001b[0;36m<cell line: 5>\u001b[1;34m()\u001b[0m\n\u001b[0;32m      3\u001b[0m PrintCar(\u001b[38;5;124m\"\u001b[39m\u001b[38;5;124mToyota\u001b[39m\u001b[38;5;124m\"\u001b[39m, \u001b[38;5;124m\"\u001b[39m\u001b[38;5;124mBMW\u001b[39m\u001b[38;5;124m\"\u001b[39m, \u001b[38;5;124m\"\u001b[39m\u001b[38;5;124mHonda\u001b[39m\u001b[38;5;124m\"\u001b[39m, \u001b[38;5;124m\"\u001b[39m\u001b[38;5;124mVolvo\u001b[39m\u001b[38;5;124m\"\u001b[39m)\n\u001b[0;32m      4\u001b[0m PrintCar(\u001b[38;5;124m\"\u001b[39m\u001b[38;5;124mToyota\u001b[39m\u001b[38;5;124m\"\u001b[39m, \u001b[38;5;124m\"\u001b[39m\u001b[38;5;124mPorche\u001b[39m\u001b[38;5;124m\"\u001b[39m, \u001b[38;5;124m\"\u001b[39m\u001b[38;5;124mFerrari\u001b[39m\u001b[38;5;124m\"\u001b[39m, \u001b[38;5;124m\"\u001b[39m\u001b[38;5;124mSuzuki\u001b[39m\u001b[38;5;124m\"\u001b[39m,\u001b[38;5;124m\"\u001b[39m\u001b[38;5;124mMG\u001b[39m\u001b[38;5;124m\"\u001b[39m)\n\u001b[1;32m----> 5\u001b[0m \u001b[43mPrintCar\u001b[49m\u001b[43m(\u001b[49m\u001b[38;5;124;43m\"\u001b[39;49m\u001b[38;5;124;43mToyota\u001b[39;49m\u001b[38;5;124;43m\"\u001b[39;49m\u001b[43m,\u001b[49m\u001b[43m \u001b[49m\u001b[38;5;124;43m\"\u001b[39;49m\u001b[38;5;124;43mBMW\u001b[39;49m\u001b[38;5;124;43m\"\u001b[39;49m\u001b[43m)\u001b[49m\n",
      "Input \u001b[1;32mIn [27]\u001b[0m, in \u001b[0;36mPrintCar\u001b[1;34m(*cars)\u001b[0m\n\u001b[0;32m      1\u001b[0m \u001b[38;5;28;01mdef\u001b[39;00m \u001b[38;5;21mPrintCar\u001b[39m(\u001b[38;5;241m*\u001b[39mcars):\n\u001b[1;32m----> 2\u001b[0m     \u001b[38;5;28mprint\u001b[39m(\u001b[38;5;124m\"\u001b[39m\u001b[38;5;124mCarsin stock incldues \u001b[39m\u001b[38;5;124m\"\u001b[39m\u001b[38;5;241m+\u001b[39m \u001b[43mcars\u001b[49m\u001b[43m[\u001b[49m\u001b[38;5;241;43m2\u001b[39;49m\u001b[43m]\u001b[49m)\n",
      "\u001b[1;31mIndexError\u001b[0m: tuple index out of range"
     ]
    }
   ],
   "source": [
    "def PrintCar(*cars):\n",
    "    print(\"Carsin stock incldues \"+ cars[2])\n",
    "PrintCar(\"Toyota\", \"BMW\", \"Honda\", \"Volvo\")\n",
    "PrintCar(\"Toyota\", \"Porche\", \"Ferrari\", \"Suzuki\",\"MG\")\n",
    "PrintCar(\"Toyota\", \"BMW\")\n"
   ]
  },
  {
   "cell_type": "code",
   "execution_count": 29,
   "metadata": {},
   "outputs": [
    {
     "name": "stdout",
     "output_type": "stream",
     "text": [
      "Enter multiple values: 1 2 3 4 5\n",
      "The sum of even integer values is 6\n",
      "Inside a function - The sum of even integer values is 6\n"
     ]
    }
   ],
   "source": [
    "def SumEven(nList):\n",
    "    total = 0\n",
    "    for i in nList:\n",
    "        if i % 2 == 0:\n",
    "            total = total + i # total += i\n",
    "    print(f'Inside a function - The sum of even integer values is {total}')\n",
    "    \n",
    "\n",
    "intList = [int(intList) for intList in input(\"Enter multiple values: \").split()] \n",
    "total = 0\n",
    "for i in intList:\n",
    "    if i % 2 == 0:\n",
    "        total = total + i # total += i\n",
    "print(f'The sum of even integer values is {total}')\n",
    "\n",
    "\n",
    "SumEven(intList)"
   ]
  },
  {
   "cell_type": "code",
   "execution_count": 32,
   "metadata": {},
   "outputs": [
    {
     "name": "stdout",
     "output_type": "stream",
     "text": [
      "Enter name: Tom\n",
      "Enter surname: Hank\n",
      "Enter age: 78\n",
      "Dear Hank Tom, please stay home to avoid Covid.\n"
     ]
    }
   ],
   "source": [
    "#Ex01\n",
    "\n",
    "def myBio(name,surname,age):\n",
    "    if age < 5 or age > 70:\n",
    "        print(f'Dear {name} {surname}, please stay home to avoid Covid.')\n",
    "    else:\n",
    "        print(f'Dear {name} {surname}, do whatever you want.')\n",
    "        \n",
    "\n",
    "#myBio(\"Harry\", \"Potter\", 20)\n",
    "name = input('Enter name: ')\n",
    "surname = input('Enter surname: ')\n",
    "age = int(input('Enter age: '))\n",
    "myBio(name, surname, age)"
   ]
  },
  {
   "cell_type": "code",
   "execution_count": 34,
   "metadata": {},
   "outputs": [
    {
     "name": "stdout",
     "output_type": "stream",
     "text": [
      "Enter a number: 4\n",
      "4 8 12\n"
     ]
    }
   ],
   "source": [
    "#Ex02\n",
    "\n",
    "def doubleTriple(x):\n",
    "    #double = 2*x\n",
    "    #triple = 3*x\n",
    "    #return x, double, triple\n",
    "    return x, 2*x, 3*x\n",
    "\n",
    "myNum = int(input('Enter a number: '))\n",
    "x, x2, x3 = doubleTriple(myNum)\n",
    "print(x,x2,x3)"
   ]
  },
  {
   "cell_type": "code",
   "execution_count": 35,
   "metadata": {},
   "outputs": [
    {
     "name": "stdout",
     "output_type": "stream",
     "text": [
      "Enter numbers: 1 2 3.5 4.5\n",
      "Total is 11.0.\n",
      "Average is 2.75.\n"
     ]
    }
   ],
   "source": [
    "#Ex03\n",
    "\n",
    "def FindSumAvg(nList):\n",
    "    total = 0\n",
    "    for i in nList:\n",
    "        total += i\n",
    "    avg = total / len(nList)   \n",
    "    return total, avg\n",
    "\n",
    "numList = [float(x) for x in input('Enter numbers: ').split()]\n",
    "\n",
    "total, avg = FindSumAvg(numList)\n",
    "print(f'Total is {total}.')\n",
    "print(f'Average is {avg}.')"
   ]
  },
  {
   "cell_type": "code",
   "execution_count": 39,
   "metadata": {},
   "outputs": [
    {
     "name": "stdout",
     "output_type": "stream",
     "text": [
      "[12, 9, 6, 5, 4, 2]\n",
      "[12, 9, 6, 5, 4, 2]\n",
      "[12, 9, 6, 5, 4, 2]\n"
     ]
    }
   ],
   "source": [
    "#Ex04\n",
    "\n",
    "def MergeAndSort(l1,l2):\n",
    "    l3 = l1 + l2\n",
    "    l3.sort(reverse = True)\n",
    "    return l3\n",
    "\n",
    "def MergeAndSort2(ListA,ListB):\n",
    "    ListC = []\n",
    "    for i in ListA:\n",
    "        ListC.append(i)\n",
    "    for i in ListB:\n",
    "        ListC.append(i)\n",
    "    return ListC.sort(reverse = True)\n",
    "\n",
    "def MergeAndSort3(ListA,ListB):\n",
    "    return sorted(ListA+ListB, reverse = True)\n",
    "\n",
    "List1 = [2,4,6]\n",
    "List2 = [12,5,9]\n",
    "out = MergeAndSort(List1, List2)\n",
    "print(out)\n",
    "\n",
    "out2 = MergeAndSort2(List1, List2)\n",
    "print(out)\n",
    "\n",
    "out3 = MergeAndSort3(List1, List2)\n",
    "print(out)"
   ]
  },
  {
   "cell_type": "code",
   "execution_count": 44,
   "metadata": {},
   "outputs": [
    {
     "name": "stdout",
     "output_type": "stream",
     "text": [
      "[2, 2, 2, 7, 9, 11]\n"
     ]
    }
   ],
   "source": [
    "#Ex05\n",
    "\n",
    "def OnlyOdd(intList):\n",
    "    oddList = []\n",
    "    for i in intList:\n",
    "        if i % 2 == 1:\n",
    "            oddList.append(i)\n",
    "    return oddList\n",
    "\n",
    "def OnlyEven(intList):\n",
    "    evenList = []\n",
    "    for i in intList:\n",
    "        if i % 2 == 0:\n",
    "            evenList.append(i)\n",
    "    return evenList\n",
    "\n",
    "intList = [2,2,2,7,9,11]\n",
    "oddCount = 0\n",
    "evenCount = 0\n",
    "for i in intList:\n",
    "    if i % 2 == 1:\n",
    "        oddCount += 1\n",
    "    else:\n",
    "        evenCount += 1\n",
    "if oddCount > evenCount:\n",
    "    output = OnlyOdd(intList)\n",
    "elif oddCount < evenCount:\n",
    "    output = OnlyEven(intList)\n",
    "else:\n",
    "    output = intList\n",
    "print(output)"
   ]
  },
  {
   "cell_type": "code",
   "execution_count": 47,
   "metadata": {},
   "outputs": [
    {
     "name": "stdout",
     "output_type": "stream",
     "text": [
      "[7, 9, 11, 45, 57]\n"
     ]
    }
   ],
   "source": [
    "#Ex05.1 Everything as a function\n",
    "def OnlyOdd(intList):\n",
    "    oddList = []\n",
    "    for i in intList:\n",
    "        if i % 2 == 1:\n",
    "            oddList.append(i)\n",
    "    return oddList\n",
    "\n",
    "def OnlyEven(intList):\n",
    "    evenList = []\n",
    "    for i in intList:\n",
    "        if i % 2 == 0:\n",
    "            evenList.append(i)\n",
    "    return evenList\n",
    "\n",
    "def CallOneofThem(intList): \n",
    "    oddCount = 0\n",
    "    evenCount = 0\n",
    "    for i in intList:\n",
    "        if i % 2 == 1:\n",
    "            oddCount += 1\n",
    "        else:\n",
    "            evenCount += 1\n",
    "    if oddCount > evenCount:\n",
    "        output = OnlyOdd(intList)\n",
    "    elif oddCount < evenCount:\n",
    "        output = OnlyEven(intList)\n",
    "    else:\n",
    "        output = intList\n",
    "    return output\n",
    "\n",
    "def CallOneofThem2(intList): \n",
    "    oddCount = 0\n",
    "    evenCount = 0\n",
    "    for i in intList:\n",
    "        if i % 2 == 1:\n",
    "            oddCount += 1\n",
    "        else:\n",
    "            evenCount += 1\n",
    "    return oddCount, evenCount\n",
    "    \n",
    "\n",
    "intList = [2,2,2,7,9,11,45,57]\n",
    "oddCount, evenCount = CallOneofThem2(intList)\n",
    "if oddCount > evenCount:\n",
    "    output = OnlyOdd(intList)\n",
    "elif oddCount < evenCount:\n",
    "    output = OnlyEven(intList)\n",
    "else:\n",
    "    output = intList\n",
    "print(output)"
   ]
  },
  {
   "cell_type": "markdown",
   "metadata": {},
   "source": [
    "# Week 11 - Recursive Function\n",
    "# 8 Sep 2022"
   ]
  },
  {
   "cell_type": "code",
   "execution_count": 1,
   "metadata": {},
   "outputs": [
    {
     "name": "stdout",
     "output_type": "stream",
     "text": [
      "Harry\n",
      "Harry\n",
      "Harry\n",
      "Harry\n",
      "Harry\n"
     ]
    }
   ],
   "source": [
    "def printHarry(n):\n",
    "    while n > 0:\n",
    "        print('Harry')\n",
    "        n -= 1\n",
    "    return\n",
    "\n",
    "n = 5\n",
    "printHarry(n)"
   ]
  },
  {
   "cell_type": "code",
   "execution_count": 2,
   "metadata": {},
   "outputs": [
    {
     "name": "stdout",
     "output_type": "stream",
     "text": [
      "Harry\n",
      "Harry\n",
      "Harry\n",
      "Harry\n"
     ]
    }
   ],
   "source": [
    "def printHarry2(n):\n",
    "    if n == 1:\n",
    "        print('Harry')\n",
    "    else:\n",
    "        print('Harry')\n",
    "        return printHarry2(n-1)\n",
    "\n",
    "n = 4\n",
    "printHarry2(n)"
   ]
  },
  {
   "cell_type": "code",
   "execution_count": 3,
   "metadata": {},
   "outputs": [
    {
     "name": "stdout",
     "output_type": "stream",
     "text": [
      "15\n"
     ]
    }
   ],
   "source": [
    "def sumOne2N(n):\n",
    "    if n == 1:\n",
    "        return n\n",
    "    else:\n",
    "        return n + sumOne2N(n-1)\n",
    "\n",
    "n = 5\n",
    "print(sumOne2N(5))"
   ]
  },
  {
   "cell_type": "code",
   "execution_count": 5,
   "metadata": {},
   "outputs": [
    {
     "name": "stdout",
     "output_type": "stream",
     "text": [
      "19\n"
     ]
    }
   ],
   "source": [
    "#Ex2 Sum of all integers in the list\n",
    "\n",
    "def sumList(nList):\n",
    "    if len(nList) == 1:\n",
    "        return nList[0]\n",
    "    else:\n",
    "        return nList[0] + sumList(nList[1:])\n",
    "\n",
    "#main body\n",
    "nList = [2,4,6,7]\n",
    "result = sumList(nList)\n",
    "print(result)"
   ]
  },
  {
   "cell_type": "code",
   "execution_count": 4,
   "metadata": {},
   "outputs": [
    {
     "name": "stdout",
     "output_type": "stream",
     "text": [
      "2\n",
      "[7, 4, 8, 0]\n"
     ]
    }
   ],
   "source": [
    "sample = [2,7,4,8,0]\n",
    "print(sample[0])\n",
    "print(sample[1:])"
   ]
  },
  {
   "cell_type": "code",
   "execution_count": 7,
   "metadata": {},
   "outputs": [
    {
     "name": "stdout",
     "output_type": "stream",
     "text": [
      "4\n"
     ]
    }
   ],
   "source": [
    "#Ex03 Sum of all digits in any integer\n",
    "\n",
    "def SumDigit(n):\n",
    "    if n < 10:\n",
    "        return n\n",
    "    else:\n",
    "        return n%10 + SumDigit(n//10)\n",
    "    \n",
    "n = 1111\n",
    "print(SumDigit(n))"
   ]
  },
  {
   "cell_type": "code",
   "execution_count": 8,
   "metadata": {},
   "outputs": [
    {
     "name": "stdout",
     "output_type": "stream",
     "text": [
      "9\n"
     ]
    }
   ],
   "source": [
    "#Ex04 Sum series\n",
    "\n",
    "def sumSeries(n):\n",
    "    if n <= 0:\n",
    "        return 0\n",
    "    else:\n",
    "        return n + sumSeries(n-2)\n",
    "\n",
    "n = 5\n",
    "print(sumSeries(n))"
   ]
  },
  {
   "cell_type": "code",
   "execution_count": 10,
   "metadata": {},
   "outputs": [
    {
     "name": "stdout",
     "output_type": "stream",
     "text": [
      "64\n"
     ]
    }
   ],
   "source": [
    "#Ex05 A recursive function to find x power y\n",
    "\n",
    "\n",
    "def power(x,y):\n",
    "    if y == 1:\n",
    "        return x\n",
    "    else:\n",
    "        return x * power(x, y-1)\n",
    "    \n",
    "    \n",
    "#main body\n",
    "print(power(2,6))"
   ]
  },
  {
   "cell_type": "code",
   "execution_count": 1,
   "metadata": {
    "scrolled": true
   },
   "outputs": [
    {
     "name": "stdout",
     "output_type": "stream",
     "text": [
      "15\n",
      "5\n"
     ]
    }
   ],
   "source": [
    "import myCal\n",
    "\n",
    "#main body\n",
    "a = 10\n",
    "b = 5\n",
    "print(myCal.add(a,b))\n",
    "print(myCal.subtract(a,b))"
   ]
  },
  {
   "cell_type": "code",
   "execution_count": 3,
   "metadata": {},
   "outputs": [
    {
     "name": "stdout",
     "output_type": "stream",
     "text": [
      "Enter your name: Harry\n",
      "Enter your age: 22\n",
      "Dear Harry, welcome to Python Module.\n",
      "You were highly likely born in 2000.\n"
     ]
    }
   ],
   "source": [
    "#Ex06\n",
    "\n",
    "import myinfo\n",
    "\n",
    "#main body\n",
    "name = input('Enter your name: ')\n",
    "age = int(input('Enter your age: '))\n",
    "myinfo.printName(name)\n",
    "myinfo.printYoB(age)"
   ]
  },
  {
   "cell_type": "code",
   "execution_count": 2,
   "metadata": {},
   "outputs": [
    {
     "name": "stdout",
     "output_type": "stream",
     "text": [
      "120\n",
      "4.6\n",
      "10\n",
      "13\n"
     ]
    }
   ],
   "source": [
    "#Ex07 Create a simplemath module and test your code\n",
    "\n",
    "\n",
    "import simplemath\n",
    "\n",
    "n = 5\n",
    "print(simplemath.fac(n))\n",
    "nList = [2,5,7,8,1]\n",
    "print(simplemath.avgList(nList))\n",
    "print(simplemath.sumofOddPos(nList))\n",
    "print(simplemath.sumofEvenPos(nList))"
   ]
  },
  {
   "cell_type": "code",
   "execution_count": 5,
   "metadata": {},
   "outputs": [
    {
     "ename": "IndentationError",
     "evalue": "expected an indented block (simplemath.py, line 19)",
     "output_type": "error",
     "traceback": [
      "Traceback \u001b[1;36m(most recent call last)\u001b[0m:\n",
      "  File \u001b[0;32mC:\\ProgramData\\Anaconda3\\lib\\site-packages\\IPython\\core\\interactiveshell.py:3398\u001b[0m in \u001b[0;35mrun_code\u001b[0m\n    exec(code_obj, self.user_global_ns, self.user_ns)\n",
      "\u001b[1;36m  Input \u001b[1;32mIn [5]\u001b[1;36m in \u001b[1;35m<cell line: 1>\u001b[1;36m\u001b[0m\n\u001b[1;33m    import simplemath as sm\u001b[0m\n",
      "\u001b[1;36m  File \u001b[1;32m~\\Downloads\\simplemath.py:19\u001b[1;36m\u001b[0m\n\u001b[1;33m    def sumofEvenPos(nList):\u001b[0m\n\u001b[1;37m                            ^\u001b[0m\n\u001b[1;31mIndentationError\u001b[0m\u001b[1;31m:\u001b[0m expected an indented block\n"
     ]
    }
   ],
   "source": [
    "import simplemath as sm"
   ]
  },
  {
   "cell_type": "code",
   "execution_count": null,
   "metadata": {},
   "outputs": [],
   "source": [
    "def fac(n):\n",
    "    if n == 1:\n",
    "        return n\n",
    "    else:\n",
    "        return n * fac(n-1)\n",
    "    \n",
    "def avgList(nList):\n",
    "    return sum(nList) / len(nList)\n",
    "\n",
    "def sumofOddPos(nList):\n",
    "    if len(nList) <= 2:\n",
    "        return nList[0]\n",
    "    else:\n",
    "        return nList[0] + sumofOddPos(nList[2:])\n",
    "    \n",
    "    \n",
    "    \n",
    "def sumofEvenPos(nList):"
   ]
  },
  {
   "cell_type": "markdown",
   "metadata": {},
   "source": [
    "# Class 12 Mutable and Immutable Data Types\n",
    "# 15 Sep 2022 (Online mode)\n",
    "\n",
    "# ================================"
   ]
  },
  {
   "cell_type": "code",
   "execution_count": 1,
   "metadata": {},
   "outputs": [
    {
     "name": "stdout",
     "output_type": "stream",
     "text": [
      "Value of x outside function(Before): 50\n",
      "Value of x inside function: 100\n",
      "Value of x outside function(After): 50\n"
     ]
    }
   ],
   "source": [
    "def exFunc():\n",
    "    x = 100\n",
    "    print('Value of x inside function:', x)\n",
    "#main body\n",
    "x = 50\n",
    "print('Value of x outside function(Before):', x)\n",
    "exFunc()\n",
    "print('Value of x outside function(After):', x)"
   ]
  },
  {
   "cell_type": "code",
   "execution_count": 2,
   "metadata": {},
   "outputs": [
    {
     "name": "stdout",
     "output_type": "stream",
     "text": [
      "Value of List aoutside a function:  [1, 2, 3]\n",
      "Value of List aListinside a function:  [1, 2, 3, 10]\n",
      "Value of List aoutside a function:  [1, 2, 3, 10]\n"
     ]
    }
   ],
   "source": [
    "def mutableList(aList):\n",
    "    aList.append(10)\n",
    "    print('Value of List aListinside a function: ', aList)\n",
    "#main body\n",
    "a = [1,2,3]\n",
    "print('Value of List aoutside a function: ', a)\n",
    "mutableList(a)\n",
    "print('Value of List aoutside a function: ', a)"
   ]
  },
  {
   "cell_type": "code",
   "execution_count": 5,
   "metadata": {},
   "outputs": [
    {
     "name": "stdout",
     "output_type": "stream",
     "text": [
      "aStr outside a function:  superman\n",
      "aStr in a function:  superman\n"
     ]
    }
   ],
   "source": [
    "aStr = 'superman'\n",
    "def doSth():\n",
    "    print('aStr in a function: ', aStr)\n",
    "    \n",
    "print('aStr outside a function: ', aStr)\n",
    "doSth()"
   ]
  },
  {
   "cell_type": "code",
   "execution_count": 11,
   "metadata": {},
   "outputs": [
    {
     "name": "stdout",
     "output_type": "stream",
     "text": [
      "aStr outside a function:  global_superman\n",
      "aStr in a function:  local_hero\n",
      "aStr outside a function:  local_hero\n"
     ]
    }
   ],
   "source": [
    "aStr = 'global_superman'\n",
    "def doSth():\n",
    "    global aStr\n",
    "    aStr = 'local_hero'\n",
    "    print('aStr in a function: ', aStr)\n",
    "\n",
    "print('aStr outside a function: ', aStr)\n",
    "doSth()\n",
    "print('aStr outside a function: ', aStr)"
   ]
  },
  {
   "cell_type": "code",
   "execution_count": 14,
   "metadata": {},
   "outputs": [
    {
     "name": "stdout",
     "output_type": "stream",
     "text": [
      "11 is an odd integer.\n",
      "11 is an odd integer.\n"
     ]
    }
   ],
   "source": [
    "#Ex01\n",
    "\n",
    "def isOdd(n):\n",
    "    if n % 2 == 1:\n",
    "        return True\n",
    "    else:\n",
    "        return False\n",
    "    \n",
    "#\n",
    "\n",
    "n = 11\n",
    "if n % 2 == 1:\n",
    "    print(f'{n} is an odd integer.')\n",
    "else:\n",
    "    print(f'{n} is an even integer.')\n",
    "    \n",
    "if isOdd(n):\n",
    "    print(f'{n} is an odd integer.')\n",
    "else:\n",
    "    print(f'{n} is an even integer.')"
   ]
  },
  {
   "cell_type": "code",
   "execution_count": 21,
   "metadata": {},
   "outputs": [
    {
     "name": "stdout",
     "output_type": "stream",
     "text": [
      "The mid value is 100\n",
      "The mid value is 100\n"
     ]
    }
   ],
   "source": [
    "#Ex02\n",
    "\n",
    "def mid(x,y,z):\n",
    "    a = [x,y,z]\n",
    "    a.sort()\n",
    "    return a[1]\n",
    "\n",
    "def midwithifelse(x,y,z):\n",
    "    if x<y<z or z<y<x:\n",
    "        return y\n",
    "    elif y<x<z or z<x<y:\n",
    "        return x\n",
    "    elif x<z<y or y<z<x:\n",
    "        return z\n",
    "\n",
    "x = 10\n",
    "y = 100\n",
    "z = 2000\n",
    "print('The mid value is', mid(x,y,z))\n",
    "print('The mid value is', midwithifelse(x,y,z))"
   ]
  },
  {
   "cell_type": "code",
   "execution_count": 29,
   "metadata": {},
   "outputs": [
    {
     "name": "stdout",
     "output_type": "stream",
     "text": [
      "84.0\n"
     ]
    }
   ],
   "source": [
    "# combination(n,r) = n! / (r!*(n-r)!)\n",
    "# Ex03\n",
    "\n",
    "def fac(n):\n",
    "    if n == 0 or n == 1:\n",
    "        return 1\n",
    "    else:\n",
    "        return n * fac(n-1)\n",
    "    \n",
    "def combination(n, r):\n",
    "    return fac(n) / (fac(r) * fac(n-r))\n",
    "\n",
    "x = 9\n",
    "y = 6\n",
    "\n",
    "print(combination(x,y))"
   ]
  },
  {
   "cell_type": "code",
   "execution_count": 32,
   "metadata": {},
   "outputs": [
    {
     "name": "stdout",
     "output_type": "stream",
     "text": [
      "{1, 2}\n",
      "{0, 1, 2}\n"
     ]
    }
   ],
   "source": [
    "test = set()\n",
    "\n",
    "test.add(1)\n",
    "test.add(2)\n",
    "print(test)\n",
    "\n",
    "test.add(2)\n",
    "test.add(0)\n",
    "print(test)"
   ]
  },
  {
   "cell_type": "code",
   "execution_count": 34,
   "metadata": {},
   "outputs": [
    {
     "name": "stdout",
     "output_type": "stream",
     "text": [
      "[1, 1, 3, 5, 4, 5, 5, 9, 4, 8, 6]\n",
      "[1, 1, 3, 5, 4, 5, 5, 9, 4, 8, 6]\n",
      "None\n"
     ]
    }
   ],
   "source": [
    "def removeDuplicate(li):\n",
    "    newli= []\n",
    "    seen = set()\n",
    "    for item in li:\n",
    "        if item not in seen:\n",
    "            seen.add(item)\n",
    "            newli.append(item)\n",
    "    print(li)\n",
    "    return newli\n",
    "\n",
    "li = [1,1,3,5,4,5,5,9,4,8,6]\n",
    "print(li)\n",
    "li = removeDuplicate(li)\n",
    "print(li)"
   ]
  },
  {
   "cell_type": "code",
   "execution_count": 41,
   "metadata": {},
   "outputs": [
    {
     "name": "stdout",
     "output_type": "stream",
     "text": [
      "[1, 1, 3, 5, 4, 5, 5, 9, 4, 8, 6]\n",
      "[1, 10, 3, 5, 4, 50, 50, 9, 80, 8, 6]\n"
     ]
    }
   ],
   "source": [
    "#Ex04\n",
    "def MoDuplicate(li):\n",
    "    newli = []\n",
    "    seen = set()\n",
    "    for item in li:\n",
    "        if item not in seen:\n",
    "            seen.add(item)\n",
    "            newli.append(item)\n",
    "        elif item in seen:\n",
    "            if item % 2 == 0:\n",
    "                newli.append(item*20)\n",
    "            else:\n",
    "                newli.append(item*10)\n",
    "    return newli\n",
    "li = [1,1,3,5,4,5,5,9,4,8,6]\n",
    "print(li)\n",
    "li = modup(li)\n",
    "print(li) "
   ]
  },
  {
   "cell_type": "code",
   "execution_count": 40,
   "metadata": {},
   "outputs": [
    {
     "name": "stdout",
     "output_type": "stream",
     "text": [
      "[1, 1, 3, 5, 4, 5, 5, 9, 4, 8, 6]\n",
      "[1, 10, 3, 5, 4, 50, 50, 9, 80, 8, 6]\n"
     ]
    }
   ],
   "source": [
    "#Ex04 by Thanawat \n",
    "def modup(li):\n",
    "    newli = []\n",
    "    seen = set()\n",
    "    for item in li:\n",
    "        if item not in seen:\n",
    "            seen.add(item)\n",
    "            newli.append(item)\n",
    "        elif item in seen and item % 2 == 0:\n",
    "            newli.append(item*20)\n",
    "        elif item in seen and item % 2 != 0:\n",
    "            newli.append(item*10)\n",
    "\n",
    "    #print(li)\n",
    "    return newli\n",
    "\n",
    "\n",
    "li = [1,1,3,5,4,5,5,9,4,8,6]\n",
    "print(li)\n",
    "li = modup(li)\n",
    "print(li)"
   ]
  },
  {
   "cell_type": "code",
   "execution_count": 36,
   "metadata": {},
   "outputs": [
    {
     "name": "stdout",
     "output_type": "stream",
     "text": [
      "DEF def abc!!!!!!!\n"
     ]
    }
   ],
   "source": [
    "sen = 'ABC abc xyz!!!!!!!'\n",
    "shift = 3\n",
    "\n",
    "baseLower = ord('a')\n",
    "baseUpper = ord('A')\n",
    "outsen = ''\n",
    "for c in sen:\n",
    "    if c.isupper():\n",
    "        newc = (ord(c) - baseUpper + shift) % 26\n",
    "        outsen += chr(newc + baseUpper)\n",
    "    elif c.islower():\n",
    "        newc = (ord(c) - baseLower + shift) % 26\n",
    "        outsen += chr(newc + baseLower)\n",
    "    else:\n",
    "        outsen += c\n",
    "        \n",
    "print(outsen)\n"
   ]
  },
  {
   "cell_type": "code",
   "execution_count": 37,
   "metadata": {},
   "outputs": [
    {
     "name": "stdout",
     "output_type": "stream",
     "text": [
      "DEF def abc!!!!!!!\n"
     ]
    }
   ],
   "source": [
    "sen = 'ABC abc xyz!!!!!!!'\n",
    "shift = 3\n",
    "\n",
    "baseLower = ord('a')\n",
    "baseUpper = ord('A')\n",
    "outsen = []\n",
    "for c in sen:\n",
    "    if c.isupper():\n",
    "        newc = (ord(c) - baseUpper + shift) % 26\n",
    "        outsen.append(chr(newc + baseUpper))\n",
    "    elif c.islower():\n",
    "        newc = (ord(c) - baseLower + shift) % 26\n",
    "        outsen.append(chr(newc + baseLower))\n",
    "    else:\n",
    "        outsen.append(c)\n",
    "        \n",
    "print(''.join(outsen))"
   ]
  },
  {
   "cell_type": "code",
   "execution_count": 44,
   "metadata": {},
   "outputs": [
    {
     "name": "stdout",
     "output_type": "stream",
     "text": [
      "M eq e kssh fsc.\n",
      "I am a good boy.\n"
     ]
    }
   ],
   "source": [
    "#Ex05 easyEncrypt(sen, shift)\n",
    "#Ex06 easyDecrypt(sen, shift)\n",
    "\n",
    "def easyEncrypt(sen, shift):\n",
    "    baseLower = ord('a')\n",
    "    baseUpper = ord('A')\n",
    "    ciphertext = ''\n",
    "    for c in sen:\n",
    "        if c.isupper():\n",
    "            newc = (ord(c) - baseUpper + shift) % 26\n",
    "            ciphertext += chr(newc + baseUpper)\n",
    "        elif c.islower():\n",
    "            newc = (ord(c) - baseLower + shift) % 26\n",
    "            ciphertext += chr(newc + baseLower)\n",
    "        else:\n",
    "            ciphertext += c\n",
    "    return ciphertext\n",
    "\n",
    "def easyDecrypt(sen, shift):\n",
    "    baseLower = ord('a')\n",
    "    baseUpper = ord('A')\n",
    "    originaltext = ''\n",
    "    for c in sen:\n",
    "        if c.isupper():\n",
    "            newc = (ord(c) - baseUpper - shift) % 26\n",
    "            originaltext += (chr(newc + baseUpper))\n",
    "        elif c.islower():\n",
    "            newc = (ord(c) - baseLower - shift) % 26\n",
    "            originaltext += (chr(newc + baseLower))\n",
    "        else:\n",
    "            originaltext += (c)\n",
    "    return originaltext\n",
    "\n",
    "\n",
    "\n",
    "#main body\n",
    "sen = 'I am a good boy.'\n",
    "shift = 4\n",
    "\n",
    "eText = easyEncrypt(sen, shift)\n",
    "print(eText)\n",
    "\n",
    "oText = easyDecrypt(eText, shift)\n",
    "print(oText)\n",
    "    \n",
    "    \n",
    "    "
   ]
  },
  {
   "cell_type": "markdown",
   "metadata": {},
   "source": [
    "a --> d   + shift\n",
    "\n",
    "a <-- d \n",
    "\n",
    "ASM1 10101010 , 111110, \n",
    "For example 00001100101 -- > start from right most digit to do the calculation\n",
    "\n",
    "00011010101 --> 11010101\n",
    "\n",
    "def easyEncrypt(sen, shift, direction):\n",
    "\n",
    "     sen = 'a'\n",
    "     shift = 3\n",
    "     direction = 'r'\n",
    "     a --> d\n",
    "     \n",
    "     but if direction is 'l'\n",
    "     \n",
    "     a -- x\n",
    "     \n",
    "     \n",
    "     based on direction, we do something with a \"shift\" variable before you calculate newc so that you do not need to modify newc"
   ]
  },
  {
   "cell_type": "markdown",
   "metadata": {},
   "source": [
    "# Class 13 Sorting and Searching\n",
    "# 15 Sep 2022 (Online mode)\n",
    "\n",
    "# ==============================="
   ]
  },
  {
   "cell_type": "code",
   "execution_count": 47,
   "metadata": {},
   "outputs": [
    {
     "name": "stdout",
     "output_type": "stream",
     "text": [
      "Before sorting [5, 12, 1, 8, 4, 15, 6]\n",
      "\n",
      "After sorting [1, 4, 5, 6, 8, 12, 15]\n"
     ]
    }
   ],
   "source": [
    "myNum = [5,12,1,8,4,15,6]\n",
    "print('Before sorting', myNum)\n",
    "print()\n",
    "myNum.sort()\n",
    "print('After sorting',myNum)"
   ]
  },
  {
   "cell_type": "code",
   "execution_count": 49,
   "metadata": {},
   "outputs": [
    {
     "name": "stdout",
     "output_type": "stream",
     "text": [
      "Before sorting [5, 3, 13, 2, 11, 4, 7]\n",
      "\n",
      "After sorting [2, 3, 4, 5, 7, 11, 13]\n"
     ]
    }
   ],
   "source": [
    "#Bubble sort\n",
    "\n",
    "def bubbleSort(ls):\n",
    "    n = len(ls)\n",
    "    for i in range(n):\n",
    "        for j in range(0, n-i-1):\n",
    "            if ls[j] > ls[j+1]:\n",
    "                ls[j], ls[j+1] = ls[j+1], ls[j] #swap value\n",
    "    \n",
    "myNum2 = [5,3,13,2,11,4,7]\n",
    "print('Before sorting', myNum2)\n",
    "print()\n",
    "bubbleSort(myNum2)\n",
    "print('After sorting', myNum2)\n"
   ]
  },
  {
   "cell_type": "code",
   "execution_count": null,
   "metadata": {},
   "outputs": [],
   "source": [
    "i = 0\n",
    "j --> 0 until 7-0-1 (0, 6)\n",
    "\n",
    "i = 1\n",
    "j --> 0 until 7-1-1 (0,5)"
   ]
  },
  {
   "cell_type": "code",
   "execution_count": 57,
   "metadata": {},
   "outputs": [
    {
     "name": "stdout",
     "output_type": "stream",
     "text": [
      "5 is found in [5, 3, 13, 2, 11, 4, 7] and it takes 1 loops.\n"
     ]
    }
   ],
   "source": [
    "#Linear search with while loop\n",
    "\n",
    "def linearSearch(key, ls):\n",
    "    i = 0\n",
    "    while i < len(ls):\n",
    "        if ls[i] == key:\n",
    "            return True, i+1\n",
    "        i += 1\n",
    "    return False, i\n",
    "\n",
    "myNum2 = [5,3,13,2,11,4,7]\n",
    "key = 5\n",
    "\n",
    "result, loopcount = linearSearch(key, myNum2)\n",
    "if result:\n",
    "    print(f'{key} is found in {myNum2} and it takes {loopcount} loops.')\n",
    "else:\n",
    "    print(f'{key} is not in {myNum2} and it takes {loopcount} loops')"
   ]
  },
  {
   "cell_type": "code",
   "execution_count": 61,
   "metadata": {},
   "outputs": [
    {
     "name": "stdout",
     "output_type": "stream",
     "text": [
      "55 is not found in [2, 3, 4, 5, 7, 11, 13].\n"
     ]
    }
   ],
   "source": [
    "#binary search\n",
    "\n",
    "def binarySearch(key, ls):\n",
    "    ls.sort()\n",
    "    size = len(ls)\n",
    "    leftMost = 0\n",
    "    rightMost = size -1\n",
    "    while True:\n",
    "        middle = round((leftMost + rightMost) / 2)\n",
    "        if key == ls[middle]:\n",
    "            return True\n",
    "        elif key < ls[middle]:\n",
    "            rightMost = middle -1\n",
    "        else:\n",
    "            leftMost = middle + 1\n",
    "        \n",
    "        if leftMost > rightMost:\n",
    "            return False\n",
    "        \n",
    "myNum2 = [5,3,13,2,11,4,7]\n",
    "key = 55\n",
    "if binarySearch(key, myNum2):\n",
    "    print(f'{key} is found in {myNum2}.')\n",
    "else:\n",
    "    print(f'{key} is not found in {myNum2}.')"
   ]
  },
  {
   "cell_type": "code",
   "execution_count": null,
   "metadata": {},
   "outputs": [],
   "source": [
    "#https://media.geeksforgeeks.org/wp-content/uploads/20220309171621/BinarySearch.png\n",
    "#Here variables L,H and M are used as three indexes in correspond to the link above\n",
    "def binarySearch(key, ls):\n",
    "    ls.sort()\n",
    "    size = len(ls)\n",
    "    L = 0\n",
    "    H = size -1\n",
    "    while True:\n",
    "        M = round((L + H) / 2)\n",
    "        if key == ls[M]:\n",
    "            return True\n",
    "        elif key < ls[M]:\n",
    "            H = M -1\n",
    "        else:\n",
    "            L = M + 1\n",
    "        \n",
    "        if L > H:\n",
    "            return False"
   ]
  },
  {
   "cell_type": "code",
   "execution_count": 69,
   "metadata": {},
   "outputs": [
    {
     "name": "stdout",
     "output_type": "stream",
     "text": [
      "234 is found in [5, 3, 13, 2, 11, 4, 7, 22, 33, 44, 55, 66, 77, 88, 99, 111, 112, 123, 234, 345, 444, 434, 90, 93, 95]\n",
      "For LienarSearch(), it takes 19 loop(s) to find 234.\n",
      "For BiDirectionLienarSearch(), it takes 7 loop(s) to find 234.\n"
     ]
    }
   ],
   "source": [
    "def LinearSearch(key, ls):\n",
    "    i = 0\n",
    "    while i < len(ls):\n",
    "        if ls[i] == key:\n",
    "            return True, i+1\n",
    "        i += 1\n",
    "    return False, i\n",
    "\n",
    "def BiDirectionLinearSearch(key, ls):\n",
    "    i = 0\n",
    "    j = len(ls) - 1\n",
    "    while i < j:\n",
    "        if ls[i] == key or ls[j] == key:\n",
    "            return True, i+1\n",
    "        i += 1\n",
    "        j -= 1\n",
    "    return False, i\n",
    "\n",
    "myNum2 = [5,3,13,2,11,4,7,22,33,44,55,66,77,88,99,111,112,123,234,345,444,434,90,93,95]\n",
    "key = 234\n",
    "\n",
    "result, loopcount = LinearSearch(key, myNum2)\n",
    "result, loopcount2 = BiDirectionLinearSearch(key, myNum2)\n",
    "if result:\n",
    "    print(f'{key} is found in {myNum2}')\n",
    "    print(f'For LienarSearch(), it takes {loopcount} loop(s) to find {key}.')\n",
    "    print(f'For BiDirectionLienarSearch(), it takes {loopcount2} loop(s) to find {key}.')\n",
    "else:\n",
    "    print(f'{key} is not in {myNum2} and it takes {loopcount} loop(s)')"
   ]
  },
  {
   "cell_type": "code",
   "execution_count": null,
   "metadata": {},
   "outputs": [],
   "source": [
    " i               j\n",
    " 0               7\n",
    "[5,3,13,2,1,11,4,7]\n",
    "\n",
    "\n",
    "   i           j\n",
    "   1           6\n",
    "[5,3,13,2,1,11,4,7]\n",
    "\n",
    "      i     j\n",
    "      2     5\n",
    "[5,3,13,2,1,11,4,7]\n",
    "\n",
    "\n",
    "        i j\n",
    "        3 4    \n",
    "[5,3,13,2,1,11,4,7]\n",
    "\n",
    "\n",
    "        j i\n",
    "        3 4    \n",
    "[5,3,13,2,1,11,4,7]"
   ]
  },
  {
   "cell_type": "code",
   "execution_count": null,
   "metadata": {},
   "outputs": [],
   "source": [
    "[1,2,3,4,5,6,7,8,9,10,11,12,13,14,15,16]\n",
    "\n",
    "     i1\n",
    "[1,2,3,4]\n",
    "     i2\n",
    "[5,6,7,8]\n",
    "      i3\n",
    "[9,10,11,12]\n",
    "       i4\n",
    "[13,14,15,16]"
   ]
  },
  {
   "cell_type": "code",
   "execution_count": null,
   "metadata": {},
   "outputs": [],
   "source": [
    " i1    j1\n",
    "[1,2,3,4]\n",
    " i2    j2\n",
    "[5,6,7,8]\n",
    " i3      j3\n",
    "[9,10,11,12]\n",
    "i4         j4\n",
    "[13,14,15,16]"
   ]
  }
 ],
 "metadata": {
  "kernelspec": {
   "display_name": "Python 3",
   "language": "python",
   "name": "python3"
  },
  "language_info": {
   "codemirror_mode": {
    "name": "ipython",
    "version": 3
   },
   "file_extension": ".py",
   "mimetype": "text/x-python",
   "name": "python",
   "nbconvert_exporter": "python",
   "pygments_lexer": "ipython3",
   "version": "3.7.4"
  }
 },
 "nbformat": 4,
 "nbformat_minor": 2
}
